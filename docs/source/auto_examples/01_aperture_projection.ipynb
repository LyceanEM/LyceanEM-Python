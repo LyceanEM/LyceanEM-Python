{
  "cells": [
    {
      "cell_type": "code",
      "execution_count": null,
      "metadata": {
        "collapsed": false
      },
      "outputs": [],
      "source": [
        "%matplotlib inline\nfrom pyvista import set_plot_theme\nset_plot_theme('document')"
      ]
    },
    {
      "cell_type": "markdown",
      "metadata": {},
      "source": [
        "# Calculating Antenna Array Performance Envelope using Aperture Projection\r\n\r\nThis is a demonstration using the aperture projection function in the\r\ncontext of a conformal antenna array mounted upon an unmanned aerial\r\nvehicle.\r\n\r\nAperture Projection as a technique is based upon Hannan\\'s formulation\r\nof the gain of an aperture based upon its surface area and the freuqency\r\nof interest. This is defined in terms of the maximum gain $G_{max}$, the\r\neffective area of the aperture $A_{e}$, and the wavelength of interest\r\n$\\lambda$.\r\n\r\n$$G_{max}=\\dfrac{4 \\pi A_{e}}{\\lambda^{2}}$$\r\n\r\nWhile this has been in common use since the 70s, as a formula it is\r\nlimited to planar surfaces, and only providing the maximum gain in the\r\nboresight direction for that surface.\r\n\r\nAperture projection as a function is based upon the rectilinear\r\nprojection of the aperture into the farfield. This can then be used with\r\nHannan\\'s formula to predict the maximum achievable directivity for all\r\nfarfield directions of interest.\r\n\r\nAs this method is built into a raytracing environment, the maximum\r\nperformance for an aperture on any platform can also be predicted using\r\nthe\r\n`lyceanem.models.frequency_domain.aperture_projection`{.interpreted-text\r\nrole=\"func\"} function.\r\n"
      ]
    },
    {
      "cell_type": "code",
      "execution_count": null,
      "metadata": {
        "collapsed": false
      },
      "outputs": [],
      "source": [
        "import copy\n\nimport numpy as np"
      ]
    },
    {
      "cell_type": "markdown",
      "metadata": {},
      "source": [
        "# Setting Farfield Resolution and Wavelength\r\n\r\nLyceanEM uses Elevation and Azimuth to record spherical coordinates,\r\nranging from -180 to 180 degrees in azimuth, and from -90 to 90 degrees\r\nin elevation. In order to launch the aperture projection function, the\r\nresolution in both azimuth and elevation is requried. In order to ensure\r\na fast example, 37 points have been used here for both, giving a total\r\nof 1369 farfield points.\r\n\r\nThe wavelength of interest is also an important variable for antenna\r\narray analysis, so we set it now for 10GHz, an X band aperture.\r\n"
      ]
    },
    {
      "cell_type": "code",
      "execution_count": null,
      "metadata": {
        "collapsed": false
      },
      "outputs": [],
      "source": [
        "az_res = 37\nelev_res = 37\nwavelength = 3e8 / 10e9"
      ]
    },
    {
      "cell_type": "markdown",
      "metadata": {},
      "source": [
        "# Geometries\r\n\r\nIn order to make things easy to start, an example geometry has been\r\nincluded within LyceanEM for a UAV, and the meshio trianglemesh\r\nstructures can be accessed by importing the data subpackage\r\n"
      ]
    },
    {
      "cell_type": "code",
      "execution_count": null,
      "metadata": {
        "collapsed": false
      },
      "outputs": [],
      "source": [
        "import lyceanem.tests.reflectordata as data\n\nbody = data.UAV_Demo(wavelength * 0.5)\narray = data.UAV_Demo_Aperture(wavelength * 0.5)"
      ]
    },
    {
      "cell_type": "code",
      "execution_count": null,
      "metadata": {
        "collapsed": false
      },
      "outputs": [],
      "source": [
        "import pyvista as pv"
      ]
    },
    {
      "cell_type": "markdown",
      "metadata": {},
      "source": [
        "# Visualisation\r\n\r\nThe pyvista library is used to visualise the geometry of the UAV and the\r\nantenna array. The UAV is shown in green, and the antenna array in aqua.\r\n"
      ]
    },
    {
      "cell_type": "code",
      "execution_count": null,
      "metadata": {
        "collapsed": false
      },
      "outputs": [],
      "source": [
        "pl = pv.Plotter()\npl.add_mesh(pv.from_meshio(body), color=\"green\")\npl.add_mesh(pv.from_meshio(array), color=\"aqua\")\npl.add_axes()\npl.show()"
      ]
    },
    {
      "cell_type": "markdown",
      "metadata": {},
      "source": [
        "# Structures\r\n\r\nLyceanEM uses a class named \\'structures\\' to store and maniuplate\r\njoined 3D solids. Currently all that is implemented is the class itself,\r\nand methods to allow translation and rotation of the trianglemesh\r\nsolids. A structure can be passed to the models to provide the\r\nenvironment to be considered as blockers. structures are created by\r\ncalling the class, and passing it a list of the meshio trianglemesh\r\nstructures to be added.\r\n"
      ]
    },
    {
      "cell_type": "code",
      "execution_count": null,
      "metadata": {
        "collapsed": false
      },
      "outputs": [],
      "source": [
        "from lyceanem.base_classes import structures\n\nblockers = structures([body])"
      ]
    },
    {
      "cell_type": "markdown",
      "metadata": {},
      "source": [
        "# Aperture Projection\r\n\r\nAperture Projection is imported from the frequency domain models,\r\nrequiring the aperture of interest, wavelength to be considered, and the\r\nazimuth and elevation ranges. The function then returns the directivity\r\nenvelope as a numpy array of floats, and a meshio point cloud with\r\npoints and colors corresponding to the directivity envelope of the\r\nprovided aperture, scaling from yellow at maximum to dark purple at\r\nminimum.\r\n"
      ]
    },
    {
      "cell_type": "code",
      "execution_count": null,
      "metadata": {
        "collapsed": false
      },
      "outputs": [],
      "source": [
        "from lyceanem.models.frequency_domain import aperture_projection\n\ndirectivity_envelope, pcd = aperture_projection(\n    array,\n    environment=blockers,\n    wavelength=wavelength,\n    az_range=np.linspace(-180.0, 180.0, az_res),\n    elev_range=np.linspace(-90.0, 90.0, elev_res),\n)"
      ]
    },
    {
      "cell_type": "markdown",
      "metadata": {},
      "source": [
        "# Visualisation\r\n\r\nThe resultant maximum directivity envelope is provided as both a numpy\r\narray of directivities for each angle, but also as an meshio point\r\ncloud. This allows easy visualisation using pyvista.\r\n"
      ]
    },
    {
      "cell_type": "markdown",
      "metadata": {},
      "source": [
        "Maximum Directivity\r\n"
      ]
    },
    {
      "cell_type": "code",
      "execution_count": null,
      "metadata": {
        "collapsed": false
      },
      "outputs": [],
      "source": [
        "print(\n    \"Maximum Directivity of {:3.1f} dBi\".format(\n        np.max(10 * np.log10(directivity_envelope))\n    )\n)"
      ]
    },
    {
      "cell_type": "markdown",
      "metadata": {},
      "source": [
        "# Plotting the Output\r\n\r\nWhile the pyvista visualisation is very intuitive for examining the\r\nresults of the aperture projection, it is difficult to consider the full\r\n3D space, and cannot be included in documentation in this form. However,\r\nmatplotlib can be used to generate contour plots with 3dB contours to\r\ngive a more systematic understanding of the resultant maximum\r\ndirectivity envelope.\r\n"
      ]
    },
    {
      "cell_type": "code",
      "execution_count": null,
      "metadata": {
        "collapsed": false
      },
      "outputs": [],
      "source": [
        "import matplotlib.pyplot as plt\n\n# set directivity limits on the closest multiple of 5\nplot_max = ((np.ceil(np.nanmax(10 * np.log10(directivity_envelope))) // 5.0) + 1) * 5\nazmesh, elevmesh = np.meshgrid(\n    np.linspace(-180.0, 180.0, az_res), np.linspace(-90, 90, elev_res)\n)\nfig, ax = plt.subplots(constrained_layout=True)\norigin = \"lower\"\n\nlevels = np.linspace(plot_max - 40, plot_max, 81)\nCS = ax.contourf(\n    azmesh,\n    elevmesh,\n    10 * np.log10(directivity_envelope),\n    levels,\n    origin=origin,\n    extend=\"both\",\n)\ncbar = fig.colorbar(CS)\ncbar.ax.set_ylabel(\"Directivity (dBi)\")\ncbar.set_ticks(np.linspace(plot_max - 40, plot_max, 9))\ncbar.ax.set_yticklabels(np.linspace(plot_max - 40, plot_max, 9).astype(\"str\"))\nlevels2 = np.linspace(\n    np.nanmax(10 * np.log10(directivity_envelope)) - 60,\n    np.nanmax(10 * np.log10(directivity_envelope)),\n    21,\n)\nCS4 = ax.contour(\n    azmesh,\n    elevmesh,\n    10 * np.log10(directivity_envelope),\n    levels2,\n    colors=(\"k\",),\n    linewidths=(2,),\n    origin=origin,\n)\nax.set_ylim(-90, 90)\nax.set_xlim(-180.0, 180)\nax.set_xticks(np.linspace(-180, 180, 13))\nax.set_yticks(np.linspace(-90, 90, 13))\nax.set_xlabel(\"Azimuth (degrees)\")\nax.set_ylabel(\"Elevation (degrees)\")\nax.set_title(\"Maximum Directivity Envelope\")\nfig.show()"
      ]
    },
    {
      "cell_type": "markdown",
      "metadata": {},
      "source": [
        "# Visualising the Output\r\n\r\nThe pyvista library is used to visualise the geometry of the UAV and the\r\nantenna array, as well as the resultant aperture directivity envelope.\r\n"
      ]
    },
    {
      "cell_type": "code",
      "execution_count": null,
      "metadata": {
        "collapsed": false
      },
      "outputs": [],
      "source": [
        "pl = pv.Plotter()\npl.add_mesh(pv.from_meshio(body), color=\"green\")\npl.add_mesh(pv.from_meshio(array), color=\"aqua\")\npl.add_mesh(\n    pv.from_meshio(pcd),\n    scalars=\"Directivity_Envelope_(dBi)\",\n    style=\"points\",\n    clim=[0, np.nanmax(pcd.point_data[\"Directivity_Envelope_(dBi)\"])],\n)\npl.add_axes()\npl.show()"
      ]
    }
  ],
  "metadata": {
    "kernelspec": {
      "display_name": "Python 3",
      "language": "python",
      "name": "python3"
    },
    "language_info": {
      "codemirror_mode": {
        "name": "ipython",
        "version": 3
      },
      "file_extension": ".py",
      "mimetype": "text/x-python",
      "name": "python",
      "nbconvert_exporter": "python",
      "pygments_lexer": "ipython3",
      "version": "3.12.10"
    }
  },
  "nbformat": 4,
  "nbformat_minor": 0
}