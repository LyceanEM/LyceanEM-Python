{
  "cells": [
    {
      "cell_type": "code",
      "execution_count": null,
      "metadata": {
        "collapsed": false
      },
      "outputs": [],
      "source": [
        "# This cell is added by sphinx-gallery\n# It can be customized to whatever you like\n%matplotlib inline"
      ]
    },
    {
      "cell_type": "markdown",
      "metadata": {},
      "source": [
        "\n# Calculating Antenna Array Performance Envelope using Aperture Projection\nThis is a demonstration using the aperture projection function in the context of a conformal antenna array mounted upon\nan unmanned aerial vehicle.\n\nAperture Projection as a technique is based upon Hannan's formulation of the gain of an aperture based upon its surface\narea and the freuqency of interest. This is defined in terms of the maximum gain $G_{max}$, the effective area of\nthe aperture $A_{e}$, and the wavelength of interest $\\lambda$.\n\n\\begin{align}G_{max}=\\dfrac{4 \\pi A_{e}}{\\lambda^{2}}\\end{align}\n\nWhile this has been in common use since the 70s, as a formula it is limited to planar surfaces, and only providing the\nmaximum gain in the boresight direction for that surface.\n\nAperture projection as a function is based upon the rectilinear projection of the aperture into the farfield. This can\nthen be used with Hannan's formula to predict the maximum achievable directivity for all farfield directions of\ninterest.\n\nAs this method is built into a raytracing environment, the maximum performance for an aperture on any platform can also\nbe predicted using the :func:`lyceanem.models.frequency_domain.aperture_projection` function.\n"
      ]
    },
    {
      "cell_type": "code",
      "execution_count": null,
      "metadata": {
        "collapsed": false
      },
      "outputs": [],
      "source": [
        "import numpy as np\nimport open3d as o3d\nimport copy"
      ]
    },
    {
      "cell_type": "markdown",
      "metadata": {},
      "source": [
        "## Setting Farfield Resolution and Wavelength\nLyceanEM uses Elevation and Azimuth to record spherical coordinates, ranging from -180 to 180 degrees in azimuth,\nand from -90 to 90 degrees in elevation. In order to launch the aperture projection function, the resolution in\nboth azimuth and elevation is requried.\nIn order to ensure a fast example, 37 points have been used here for both, giving a total of 1369 farfield points.\n\nThe wavelength of interest is also an important variable for antenna array analysis, so we set it now for 10GHz,\nan X band aperture.\n\n"
      ]
    },
    {
      "cell_type": "code",
      "execution_count": null,
      "metadata": {
        "collapsed": false
      },
      "outputs": [],
      "source": [
        "az_res = 37\nelev_res = 37\nwavelength = 3e8 / 10e9"
      ]
    },
    {
      "cell_type": "markdown",
      "metadata": {},
      "source": [
        "## Geometries\nIn order to make things easy to start, an example geometry has been included within LyceanEM for a UAV, and the\nopen3d trianglemesh structures can be accessed by importing the data subpackage\n\n"
      ]
    },
    {
      "cell_type": "code",
      "execution_count": null,
      "metadata": {
        "collapsed": false
      },
      "outputs": [],
      "source": [
        "import lyceanem.tests.reflectordata as data\n\nbody, array, _ = data.exampleUAV(10e9)\n\n# visualise UAV and Array\no3d.visualization.draw_geometries([body, array])"
      ]
    },
    {
      "cell_type": "markdown",
      "metadata": {},
      "source": [
        "# .. image:: ../_static/open3d_structure.png\n\n"
      ]
    },
    {
      "cell_type": "code",
      "execution_count": null,
      "metadata": {
        "collapsed": false
      },
      "outputs": [],
      "source": [
        "# crop the inner surface of the array trianglemesh (not strictly required, as the UAV main body provides blocking to\n# the hidden surfaces, but correctly an aperture will only have an outer face.\nsurface_array = copy.deepcopy(array)\nsurface_array.triangles = o3d.utility.Vector3iVector(\n    np.asarray(array.triangles)[: len(array.triangles) // 2, :]\n)\nsurface_array.triangle_normals = o3d.utility.Vector3dVector(\n    np.asarray(array.triangle_normals)[: len(array.triangle_normals) // 2, :]\n)"
      ]
    },
    {
      "cell_type": "markdown",
      "metadata": {},
      "source": [
        "## Structures\nLyceanEM uses a class named 'structures' to store and maniuplate joined 3D solids. Currently all that is implemented\nis the class itself, and methods to allow translation and rotation of the trianglemesh solids. A structure can be\npassed to the models to provide the environment to be considered as blockers.\nstructures are created by calling the class, and passing it a list of the open3d trianglemesh structures to be added.\n\n"
      ]
    },
    {
      "cell_type": "code",
      "execution_count": null,
      "metadata": {
        "collapsed": false
      },
      "outputs": [],
      "source": [
        "from lyceanem.base_classes import structures\n\nblockers = structures([body])"
      ]
    },
    {
      "cell_type": "markdown",
      "metadata": {},
      "source": [
        "## Aperture Projection\nAperture Projection is imported from the frequency domain models, requiring the aperture of interest, wavelength to\nbe considered, and the azimuth and elevation ranges. The function then returns the directivity envelope as a numpy\narray of floats, and an open3d point cloud with points and colors corresponding to the directivity envelope of the\nprovided aperture, scaling from yellow at maximum to dark purple at minimum.\n\n"
      ]
    },
    {
      "cell_type": "code",
      "execution_count": null,
      "metadata": {
        "collapsed": false
      },
      "outputs": [],
      "source": [
        "from lyceanem.models.frequency_domain import aperture_projection\n\ndirectivity_envelope, pcd = aperture_projection(\n    surface_array,\n    environment=blockers,\n    wavelength=wavelength,\n    az_range=np.linspace(-180.0, 180.0, az_res),\n    elev_range=np.linspace(-90.0, 90.0, elev_res),\n)"
      ]
    },
    {
      "cell_type": "markdown",
      "metadata": {},
      "source": [
        "## Open3D Visualisation\nThe resultant maximum directivity envelope is provided as both a numpy array of directivities for each angle, but\nalso as an open3d point cloud. This allows easy visualisation using :func:`open3d.visualization.draw_geometries`.\n%%\n\n"
      ]
    },
    {
      "cell_type": "code",
      "execution_count": null,
      "metadata": {
        "collapsed": false
      },
      "outputs": [],
      "source": [
        "o3d.visualization.draw_geometries([body, surface_array, pcd])"
      ]
    },
    {
      "cell_type": "markdown",
      "metadata": {},
      "source": [
        "<img src=\"file://../_static/open3d_results_rendering.png\">\n\n"
      ]
    },
    {
      "cell_type": "code",
      "execution_count": null,
      "metadata": {
        "collapsed": false
      },
      "outputs": [],
      "source": [
        "# Maximum Directivity\nprint(\n    \"Maximum Directivity of {:3.1f} dBi\".format(\n        np.max(10 * np.log10(directivity_envelope))\n    )\n)"
      ]
    },
    {
      "cell_type": "markdown",
      "metadata": {},
      "source": [
        "## Plotting the Output\nWhile the open3d visualisation is very intuitive for examining the results of the aperture projection, it is\ndifficult to consider the full 3D space, and cannot be included in documentation in this form. However, matplotlib\ncan be used to generate contour plots with 3dB contours to give a more systematic understanding of the resultant\nmaximum directivity envelope.\n\n"
      ]
    },
    {
      "cell_type": "code",
      "execution_count": null,
      "metadata": {
        "collapsed": false
      },
      "outputs": [],
      "source": [
        "import matplotlib.pyplot as plt\n\n# set directivity limits on the closest multiple of 5\nplot_max = ((np.ceil(np.nanmax(10 * np.log10(directivity_envelope))) // 5.0) + 1) * 5\nazmesh, elevmesh = np.meshgrid(\n    np.linspace(-180.0, 180.0, az_res), np.linspace(-90, 90, elev_res)\n)\nfig, ax = plt.subplots(constrained_layout=True)\norigin = \"lower\"\n\nlevels = np.linspace(plot_max - 40, plot_max, 81)\nCS = ax.contourf(\n    azmesh,\n    elevmesh,\n    10 * np.log10(directivity_envelope),\n    levels,\n    origin=origin,\n    extend=\"both\",\n)\ncbar = fig.colorbar(CS)\ncbar.ax.set_ylabel(\"Directivity (dBi)\")\ncbar.set_ticks(np.linspace(plot_max - 40, plot_max, 9))\ncbar.ax.set_yticklabels(np.linspace(plot_max - 40, plot_max, 9).astype(\"str\"))\nlevels2 = np.linspace(\n    np.nanmax(10 * np.log10(directivity_envelope)) - 60,\n    np.nanmax(10 * np.log10(directivity_envelope)),\n    21,\n)\nCS4 = ax.contour(\n    azmesh,\n    elevmesh,\n    10 * np.log10(directivity_envelope),\n    levels2,\n    colors=(\"k\",),\n    linewidths=(2,),\n    origin=origin,\n)\nax.set_ylim(-90, 90)\nax.set_xlim(-180.0, 180)\nax.set_xticks(np.linspace(-180, 180, 13))\nax.set_yticks(np.linspace(-90, 90, 13))\nax.set_xlabel(\"Azimuth (degrees)\")\nax.set_ylabel(\"Elevation (degrees)\")\nax.set_title(\"Maximum Directivity Envelope\")\nfig.show()"
      ]
    },
    {
      "cell_type": "code",
      "execution_count": null,
      "metadata": {
        "collapsed": false
      },
      "outputs": [],
      "source": [
        "# This is the last cell"
      ]
    }
  ],
  "metadata": {
    "kernelspec": {
      "display_name": "Python 3",
      "language": "python",
      "name": "python3"
    },
    "language_info": {
      "codemirror_mode": {
        "name": "ipython",
        "version": 3
      },
      "file_extension": ".py",
      "mimetype": "text/x-python",
      "name": "python",
      "nbconvert_exporter": "python",
      "pygments_lexer": "ipython3",
      "version": "3.8.13"
    }
  },
  "nbformat": 4,
  "nbformat_minor": 0
}