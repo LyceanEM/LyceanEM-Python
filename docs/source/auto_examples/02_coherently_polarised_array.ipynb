{
  "cells": [
    {
      "cell_type": "code",
      "execution_count": null,
      "metadata": {
        "collapsed": false
      },
      "outputs": [],
      "source": [
        "%matplotlib inline\nfrom pyvista import set_plot_theme\nset_plot_theme('document')"
      ]
    },
    {
      "cell_type": "markdown",
      "metadata": {},
      "source": [
        "# Modelling a Coherently Polarised Aperture\r\n\r\nThis example uses the frequency domain\r\n`lyceanem.models.frequency_domain.calculate_farfield`{.interpreted-text\r\nrole=\"func\"} function to predict the farfield pattern for a linearly\r\npolarised aperture. This could represent an antenna array without any\r\nbeamforming weights.\r\n"
      ]
    },
    {
      "cell_type": "code",
      "execution_count": null,
      "metadata": {
        "collapsed": false
      },
      "outputs": [],
      "source": [
        "import copy\n\nimport numpy as np"
      ]
    },
    {
      "cell_type": "markdown",
      "metadata": {},
      "source": [
        "# Setting Farfield Resolution and Wavelength\r\n\r\nLyceanEM uses Elevation and Azimuth to record spherical coordinates,\r\nranging from -180 to 180 degrees in azimuth, and from -90 to 90 degrees\r\nin elevation. In order to launch the aperture projection function, the\r\nresolution in both azimuth and elevation is requried. In order to ensure\r\na fast example, 37 points have been used here for both, giving a total\r\nof 1369 farfield points.\r\n\r\nThe wavelength of interest is also an important variable for antenna\r\narray analysis, so we set it now for 10GHz, an X band aperture.\r\n"
      ]
    },
    {
      "cell_type": "code",
      "execution_count": null,
      "metadata": {
        "collapsed": false
      },
      "outputs": [],
      "source": [
        "az_res = 181\nelev_res = 181\nwavelength = 3e8 / 10e9"
      ]
    },
    {
      "cell_type": "markdown",
      "metadata": {},
      "source": [
        "# Geometries\r\n\r\nIn order to make things easy to start, an example geometry has been\r\nincluded within LyceanEM for a UAV, and the triangle structures can be\r\naccessed by importing the data subpackage\r\n"
      ]
    },
    {
      "cell_type": "code",
      "execution_count": null,
      "metadata": {
        "collapsed": false
      },
      "outputs": [],
      "source": [
        "import lyceanem.tests.reflectordata as data\nbody=data.UAV_Demo(wavelength*0.5)\narray=data.UAV_Demo_Aperture(wavelength*0.5)"
      ]
    },
    {
      "cell_type": "code",
      "execution_count": null,
      "metadata": {
        "collapsed": false
      },
      "outputs": [],
      "source": [
        "from lyceanem.base_classes import structures, points,antenna_structures\n\nblockers = structures([body])\naperture=points([array])\narray_on_platform=antenna_structures(blockers, aperture)\nfrom lyceanem.models.frequency_domain import calculate_farfield\n\n\n\n\nimport pyvista as pv\n\npl=pv.Plotter()\npl.add_mesh(pv.from_meshio(body),color=\"green\")\npl.add_mesh(pv.from_meshio(array))\npl.add_axes()\npl.show()\n\n\ndesired_E_axis = np.zeros((1, 3), dtype=np.float32)\ndesired_E_axis[0, 1] = 1.0\n\nEtheta, Ephi = calculate_farfield(\n    array_on_platform.export_all_points(),\n    array_on_platform.export_all_structures(),\n    array_on_platform.excitation_function(desired_e_vector=desired_E_axis,wavelength=wavelength,transmit_power=1.0),\n    az_range=np.linspace(-180, 180, az_res),\n    el_range=np.linspace(-90, 90, elev_res),\n    wavelength=wavelength,\n    farfield_distance=20,\n    project_vectors=False,\n    beta=(2*np.pi)/wavelength\n)"
      ]
    },
    {
      "cell_type": "markdown",
      "metadata": {},
      "source": [
        "# Storing and Manipulating Antenna Patterns\r\n\r\nThe resultant antenna pattern can be stored in\r\n`lyceanem.base.antenna_pattern`{.interpreted-text role=\"class\"} as it\r\nhas been modelled as one distributed aperture, the advantage of this\r\nclass is the integrated display, conversion and export functions. It is\r\nvery simple to define, and save the pattern, and then display with a\r\ncall to\r\n`lyceanem.base.antenna_pattern.display_pattern`{.interpreted-text\r\nrole=\"func\"}. This produces 3D polar plots which can be manipulated to\r\ngive a better view of the whole pattern, but if contour plots are\r\nrequired, then this can also be produced by passing plottype=\\'Contour\\'\r\nto the function.\r\n"
      ]
    },
    {
      "cell_type": "code",
      "execution_count": null,
      "metadata": {
        "collapsed": false
      },
      "outputs": [],
      "source": [
        "from lyceanem.base_classes import antenna_pattern\n\nUAV_Static_Pattern = antenna_pattern(\n    azimuth_resolution=az_res, elevation_resolution=elev_res\n)\nUAV_Static_Pattern.pattern[:, :, 0] = Etheta.reshape(elev_res,az_res)\nUAV_Static_Pattern.pattern[:, :, 1] = Ephi.reshape(elev_res,az_res)\n\nUAV_Static_Pattern.display_pattern(desired_pattern='Power')\n\nUAV_Static_Pattern.display_pattern(plottype=\"Contour\")\n\npattern_mesh=UAV_Static_Pattern.pattern_mesh()\n\nfrom lyceanem.electromagnetics.beamforming import create_display_mesh\n\ndisplay_mesh=create_display_mesh(pattern_mesh,label=\"D(Total)\",dynamic_range=60)\ndisplay_mesh.point_data['D(Total - dBi)']=10*np.log10(display_mesh.point_data['D(Total)'])\nplot_max=5*np.ceil(np.nanmax(display_mesh.point_data['D(Total - dBi)'])/5)\n\n\npl=pv.Plotter()\npl.add_mesh(pv.from_meshio(body),color=\"green\")\npl.add_mesh(pv.from_meshio(array),color=\"aqua\")\npl.add_mesh(display_mesh,scalars=\"D(Total - dBi)\",style=\"points\",clim=[plot_max-60,plot_max])\npl.add_axes()\npl.show()"
      ]
    }
  ],
  "metadata": {
    "kernelspec": {
      "display_name": "Python 3",
      "language": "python",
      "name": "python3"
    },
    "language_info": {
      "codemirror_mode": {
        "name": "ipython",
        "version": 3
      },
      "file_extension": ".py",
      "mimetype": "text/x-python",
      "name": "python",
      "nbconvert_exporter": "python",
      "pygments_lexer": "ipython3",
      "version": "3.10.17"
    }
  },
  "nbformat": 4,
  "nbformat_minor": 0
}