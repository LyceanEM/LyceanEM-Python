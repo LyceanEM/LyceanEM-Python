{
  "cells": [
    {
      "cell_type": "code",
      "execution_count": null,
      "metadata": {
        "collapsed": false
      },
      "outputs": [],
      "source": [
        "# This cell is added by sphinx-gallery\n# It can be customized to whatever you like\n%matplotlib inline"
      ]
    },
    {
      "cell_type": "markdown",
      "metadata": {},
      "source": [
        "\n# Modelling a Coherently Polarised Aperture\n\nThis example uses the frequency domain :func:`lyceanem.models.frequency_domain.calculate_farfield` function to predict\nthe farfield pattern for a linearly polarised aperture. This could represent an antenna array without any beamforming\nweights.\n"
      ]
    },
    {
      "cell_type": "code",
      "execution_count": null,
      "metadata": {
        "collapsed": false
      },
      "outputs": [],
      "source": [
        "import numpy as np\nimport open3d as o3d\nimport copy"
      ]
    },
    {
      "cell_type": "markdown",
      "metadata": {},
      "source": [
        "## Setting Farfield Resolution and Wavelength\nLyceanEM uses Elevation and Azimuth to record spherical coordinates, ranging from -180 to 180 degrees in azimuth,\nand from -90 to 90 degrees in elevation. In order to launch the aperture projection function, the resolution in\nboth azimuth and elevation is requried.\nIn order to ensure a fast example, 37 points have been used here for both, giving a total of 1369 farfield points.\n\nThe wavelength of interest is also an important variable for antenna array analysis, so we set it now for 10GHz,\nan X band aperture.\n\n"
      ]
    },
    {
      "cell_type": "code",
      "execution_count": null,
      "metadata": {
        "collapsed": false
      },
      "outputs": [],
      "source": [
        "az_res = 181\nelev_res = 181\nwavelength = 3e8 / 10e9"
      ]
    },
    {
      "cell_type": "markdown",
      "metadata": {},
      "source": [
        "## Geometries\nIn order to make things easy to start, an example geometry has been included within LyceanEM for a UAV, and the\n:class:`open3d.geometry.TriangleMesh` structures can be accessed by importing the data subpackage\n\n"
      ]
    },
    {
      "cell_type": "code",
      "execution_count": null,
      "metadata": {
        "collapsed": false
      },
      "outputs": [],
      "source": [
        "import lyceanem.tests.reflectordata as data\n\nbody, array, source_coords = data.exampleUAV(10e9)"
      ]
    },
    {
      "cell_type": "markdown",
      "metadata": {},
      "source": [
        "## Visualise the Resultant UAV and Array\n:func:`open3d.visualization.draw_geometries` can be used to visualise the open3d data\nstructures :class:`open3d.geometry.PointCloud` and :class:`open3d.geometry.PointCloud`\n\n"
      ]
    },
    {
      "cell_type": "code",
      "execution_count": null,
      "metadata": {
        "collapsed": false
      },
      "outputs": [],
      "source": [
        "mesh_frame = o3d.geometry.TriangleMesh.create_coordinate_frame(\n    size=0.5, origin=[0, 0, 0]\n)\no3d.visualization.draw_geometries([body, array, source_coords, mesh_frame])"
      ]
    },
    {
      "cell_type": "markdown",
      "metadata": {},
      "source": [
        "<img src=\"file://../_static/UAVArraywithPoints.png\">\n\n"
      ]
    },
    {
      "cell_type": "code",
      "execution_count": null,
      "metadata": {
        "collapsed": false
      },
      "outputs": [],
      "source": [
        "# crop the inner surface of the array trianglemesh (not strictly required, as the UAV main body provides blocking to\n# the hidden surfaces, but correctly an aperture will only have an outer face.\nsurface_array = copy.deepcopy(array)\nsurface_array.triangles = o3d.utility.Vector3iVector(\n    np.asarray(array.triangles)[: len(array.triangles) // 2, :]\n)\nsurface_array.triangle_normals = o3d.utility.Vector3dVector(\n    np.asarray(array.triangle_normals)[: len(array.triangle_normals) // 2, :]\n)\n\nfrom lyceanem.base_classes import structures\n\nblockers = structures([body, array])\n\nfrom lyceanem.models.frequency_domain import calculate_farfield\n\nfrom lyceanem.geometry.targets import source_cloud_from_shape\n\nsource_points, _ = source_cloud_from_shape(surface_array, wavelength * 0.5)\n\no3d.visualization.draw_geometries([body, array, source_points])"
      ]
    },
    {
      "cell_type": "markdown",
      "metadata": {},
      "source": [
        "<img src=\"file://../_static/sourcecloudfromshapeuav.png\">\n\n"
      ]
    },
    {
      "cell_type": "markdown",
      "metadata": {},
      "source": [
        "## Drawbacks of :func:`lyceanem.geometry.geometryfunctions.sourcecloudfromshape`\nAs can be seen by comparing the two source point sets, :func:`lyceanem.geometry.geometryfunctions.sourcecloudfromshape`\nhas a significant drawback when used for complex sharply curved antenna arrays, as the poisson disk sampling method\ndoes not produce consistently spaced results.\n\n"
      ]
    },
    {
      "cell_type": "code",
      "execution_count": null,
      "metadata": {
        "collapsed": false
      },
      "outputs": [],
      "source": [
        "desired_E_axis = np.zeros((1, 3), dtype=np.float32)\ndesired_E_axis[0, 2] = 1.0\n\nEtheta, Ephi = calculate_farfield(\n    source_coords,\n    blockers,\n    desired_E_axis,\n    az_range=np.linspace(-180, 180, az_res),\n    el_range=np.linspace(-90, 90, elev_res),\n    wavelength=wavelength,\n    farfield_distance=20,\n    project_vectors=True,\n)"
      ]
    },
    {
      "cell_type": "markdown",
      "metadata": {},
      "source": [
        "## Storing and Manipulating Antenna Patterns\nThe resultant antenna pattern can be stored in :class:`lyceanem.base.antenna_pattern` as it has been modelled as one\ndistributed aperture, the advantage of this class is the integrated display, conversion and export functions. It is\nvery simple to define, and save the pattern, and then display with a call\nto :func:`lyceanem.base.antenna_pattern.display_pattern`. This produces 3D polar plots which can be manipulated to\ngive a better view of the whole pattern, but if contour plots are required, then this can also be produced by passing\nplottype='Contour' to the function.\n\n"
      ]
    },
    {
      "cell_type": "code",
      "execution_count": null,
      "metadata": {
        "collapsed": false
      },
      "outputs": [],
      "source": [
        "from lyceanem.base_classes import antenna_pattern\n\nUAV_Static_Pattern = antenna_pattern(\n    azimuth_resolution=az_res, elevation_resolution=elev_res\n)\nUAV_Static_Pattern.pattern[:, :, 0] = Etheta\nUAV_Static_Pattern.pattern[:, :, 0] = Ephi\n\nUAV_Static_Pattern.display_pattern()"
      ]
    },
    {
      "cell_type": "markdown",
      "metadata": {},
      "source": [
        "<img src=\"file://../_static/sphx_glr_02_coherently_polarised_array_001.png\">\n<img src=\"file://../_static/sphx_glr_02_coherently_polarised_array_002.png\">\n\n"
      ]
    },
    {
      "cell_type": "code",
      "execution_count": null,
      "metadata": {
        "collapsed": false
      },
      "outputs": [],
      "source": [
        "UAV_Static_Pattern.display_pattern(plottype=\"Contour\")"
      ]
    },
    {
      "cell_type": "markdown",
      "metadata": {},
      "source": [
        "<img src=\"file://../_static/sphx_glr_02_coherently_polarised_array_003.png\">\n<img src=\"file://../_static/sphx_glr_02_coherently_polarised_array_004.png\">\n\n"
      ]
    },
    {
      "cell_type": "code",
      "execution_count": null,
      "metadata": {
        "collapsed": false
      },
      "outputs": [],
      "source": [
        "# This is the last cell"
      ]
    }
  ],
  "metadata": {
    "kernelspec": {
      "display_name": "Python 3",
      "language": "python",
      "name": "python3"
    },
    "language_info": {
      "codemirror_mode": {
        "name": "ipython",
        "version": 3
      },
      "file_extension": ".py",
      "mimetype": "text/x-python",
      "name": "python",
      "nbconvert_exporter": "python",
      "pygments_lexer": "ipython3",
      "version": "3.8.13"
    }
  },
  "nbformat": 4,
  "nbformat_minor": 0
}