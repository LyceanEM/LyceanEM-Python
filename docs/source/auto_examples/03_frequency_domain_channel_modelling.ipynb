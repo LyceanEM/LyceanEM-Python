{
  "cells": [
    {
      "cell_type": "code",
      "execution_count": null,
      "metadata": {
        "collapsed": false
      },
      "outputs": [],
      "source": [
        "%matplotlib inline\nfrom pyvista import set_plot_theme\nset_plot_theme('document')"
      ]
    },
    {
      "cell_type": "markdown",
      "metadata": {},
      "source": [
        "# Modelling a Physical Channel in the Frequency Domain\r\n\r\nThis example uses the frequency domain\r\n`lyceanem.models.frequency_domain.calculate_scattering`{.interpreted-text\r\nrole=\"func\"} function to predict the scattering parameters for the\r\nfrequency and environment included in the model. This model allows for a\r\nvery wide range of antennas and antenna arrays to be considered, but for\r\nsimplicity only horn antennas will be included in this example. The\r\nsimplest case would be a single source point and single receive point,\r\nrather than an aperture antenna such as a horn.\r\n"
      ]
    },
    {
      "cell_type": "code",
      "execution_count": null,
      "metadata": {
        "collapsed": false
      },
      "outputs": [],
      "source": [
        "import numpy as np"
      ]
    },
    {
      "cell_type": "markdown",
      "metadata": {},
      "source": [
        "# Frequency and Mesh Resolution\r\n"
      ]
    },
    {
      "cell_type": "code",
      "execution_count": null,
      "metadata": {
        "collapsed": false
      },
      "outputs": [],
      "source": [
        "freq = np.asarray(24.0e9)\nwavelength = 3e8 / freq\nmesh_resolution = 0.5 * wavelength"
      ]
    },
    {
      "cell_type": "markdown",
      "metadata": {},
      "source": [
        "# Setup transmitters and receivers\r\n"
      ]
    },
    {
      "cell_type": "code",
      "execution_count": null,
      "metadata": {
        "collapsed": false
      },
      "outputs": [],
      "source": [
        "import lyceanem.geometry.targets as TL\nimport lyceanem.geometry.geometryfunctions as GF\n\n\ntransmit_horn_structure, transmitting_antenna_surface_coords = TL.meshedHorn(\n    58e-3, 58e-3, 128e-3, 2e-3, 0.21, mesh_resolution\n)\n\nreceive_horn_structure, receiving_antenna_surface_coords = TL.meshedHorn(\n    58e-3, 58e-3, 128e-3, 2e-3, 0.21, mesh_resolution\n)"
      ]
    },
    {
      "cell_type": "markdown",
      "metadata": {},
      "source": [
        "# Position Transmitter\r\n\r\nrotate the transmitting antenna to the desired orientation, and then\r\ntranslate to final position.\r\n`lyceanem.geometryfunctions.mesh_rotate`{.interpreted-text role=\"func\"}\r\nand `lyceanem.geometryfunctions.mesh_translate`{.interpreted-text\r\nrole=\"func\"} are used to achive this\r\n"
      ]
    },
    {
      "cell_type": "code",
      "execution_count": null,
      "metadata": {
        "collapsed": false
      },
      "outputs": [],
      "source": [
        "rotation_vector1 = np.radians(np.asarray([90.0, 0.0, 0.0]))\nrotation_vector2 = np.radians(np.asarray([0.0, 0.0, -90.0]))\nrotation_vector3 = np.radians(np.asarray([0.0, 0.0, 90.0]))\ntransmit_horn_structure = GF.mesh_rotate(\n    transmit_horn_structure,\n    rotation_vector1\n)\ntransmit_horn_structure = GF.mesh_rotate(transmit_horn_structure,rotation_vector2)\n\ntransmit_horn_structure = GF.mesh_translate(transmit_horn_structure,np.asarray([2.529, 0, 0]))\n\ntransmitting_antenna_surface_coords = GF.mesh_rotate(transmitting_antenna_surface_coords,rotation_vector1)\n\ntransmitting_antenna_surface_coords = GF.mesh_rotate(\n    transmitting_antenna_surface_coords,rotation_vector2)\n\ntransmitting_antenna_surface_coords = GF.mesh_translate(transmitting_antenna_surface_coords,np.asarray([2.529, 0, 0]))"
      ]
    },
    {
      "cell_type": "markdown",
      "metadata": {},
      "source": [
        "# Position Receiver\r\n\r\nrotate the receiving horn to desired orientation and translate to final\r\nposition.\r\n"
      ]
    },
    {
      "cell_type": "code",
      "execution_count": null,
      "metadata": {
        "collapsed": false
      },
      "outputs": [],
      "source": [
        "receive_horn_structure = GF.mesh_rotate(receive_horn_structure,rotation_vector1)\n#receive_horn_structure = GF.mesh_rotate(receive_horn_structure,rotation_vector3)\nreceive_horn_structure = GF.mesh_translate(receive_horn_structure,np.asarray([0, 1.609, 0]))\nreceiving_antenna_surface_coords = GF.mesh_rotate(receiving_antenna_surface_coords,rotation_vector1)\n#receiving_antenna_surface_coords = GF.mesh_rotate(receiving_antenna_surface_coords,rotation_vector3)\nreceiving_antenna_surface_coords = GF.mesh_translate(receiving_antenna_surface_coords,np.asarray([0, 1.609, 0]))"
      ]
    },
    {
      "cell_type": "markdown",
      "metadata": {},
      "source": [
        "# Create Scattering Plate\r\n\r\nCreate a Scattering plate a source of multipath reflections\r\n"
      ]
    },
    {
      "cell_type": "code",
      "execution_count": null,
      "metadata": {
        "collapsed": false
      },
      "outputs": [],
      "source": [
        "reflectorplate, scatter_points = TL.meshedReflector(\n    0.3, 0.3, 6e-3, wavelength * 0.5, sides=\"front\"\n)\n\nposition_vector = np.asarray([29e-3, 0.0, 0])\nrotation_vector1 = np.radians(np.asarray([0.0, 90.0, 0.0]))\nscatter_points = GF.mesh_rotate(\n    scatter_points,\n   rotation_vector1\n)\nreflectorplate = GF.mesh_rotate(\n    reflectorplate,\n    rotation_vector1\n)\nreflectorplate = GF.mesh_translate(reflectorplate,position_vector)\nscatter_points = GF.mesh_translate(scatter_points,position_vector)"
      ]
    },
    {
      "cell_type": "markdown",
      "metadata": {},
      "source": [
        "# Specify Reflection Angle\r\n\r\nRotate the scattering plate to the optimum angle for reflection from the\r\ntransmitting to receiving horn\r\n"
      ]
    },
    {
      "cell_type": "code",
      "execution_count": null,
      "metadata": {
        "collapsed": false
      },
      "outputs": [],
      "source": [
        "plate_orientation_angle = 45.0\n\nrotation_vector = np.radians(np.asarray([0.0, 0.0, plate_orientation_angle]))\nscatter_points = GF.mesh_rotate(\n    scatter_points,\n    rotation_vector)\nreflectorplate = GF.mesh_rotate(\n    reflectorplate,\n    rotation_vector\n)\n\nfrom lyceanem.base_classes import structures, points, antenna_structures\n\nblockers = structures([reflectorplate, receive_horn_structure, transmit_horn_structure])\ntransmit_horn=antenna_structures(structures([transmit_horn_structure]), points([transmitting_antenna_surface_coords]))"
      ]
    },
    {
      "cell_type": "markdown",
      "metadata": {},
      "source": [
        "# Visualise the Scene Geometry\r\n"
      ]
    },
    {
      "cell_type": "code",
      "execution_count": null,
      "metadata": {
        "collapsed": false
      },
      "outputs": [],
      "source": [
        "import pyvista as pv\npl=pv.Plotter()\npl.add_mesh(pv.from_meshio(scatter_points),scalars='Area')\npl.add_mesh(pv.from_meshio(reflectorplate),color=\"grey\")\npl.add_mesh(pv.from_meshio(transmitting_antenna_surface_coords),scalars='Area')\npl.add_mesh(pv.from_meshio(receiving_antenna_surface_coords),scalars='Area')\npl.add_mesh(pv.from_meshio(receive_horn_structure),color=\"green\")\npl.add_mesh(pv.from_meshio(transmit_horn_structure),color=\"green\")\npl.add_axes()\npl.show()\n\n# Specify desired Transmit Polarisation\n# --------------------------------------\n# The transmit polarisation has a significant effect on the channel characteristics. In this example the transmit\n# horn will be vertically polarised, (e-vector aligned with the y direction)\n\ndesired_E_axis = np.zeros((1, 3), dtype=np.float32)\ndesired_E_axis[0, 1] = 1.0"
      ]
    },
    {
      "cell_type": "markdown",
      "metadata": {},
      "source": [
        "# Frequency Domain Scattering\r\n\r\nOnce the arrangement of interest has been setup,\r\n`lyceanem.models.frequency_domain.calculate_scattering`{.interpreted-text\r\nrole=\"func\"} can be called, using raycasting to calculate the scattering\r\nparameters based upon the inputs. The scattering parameter determines\r\nhow many reflections will be considered. A value of 0 would mean only\r\nline of sight contributions will be calculated, with 1 including single\r\nreflections, and 2 including double reflections as well.\r\n"
      ]
    },
    {
      "cell_type": "code",
      "execution_count": null,
      "metadata": {
        "collapsed": false
      },
      "outputs": [],
      "source": [
        "import lyceanem.models.frequency_domain as FD\n\nEx, Ey, Ez = FD.calculate_scattering(\n    aperture_coords=transmitting_antenna_surface_coords,\n    sink_coords=receiving_antenna_surface_coords,\n    antenna_solid=blockers,\n    desired_E_axis=transmit_horn.excitation_function(desired_e_vector=desired_E_axis,transmit_power=0.25),\n    scatter_points=scatter_points,\n    wavelength=wavelength,\n    scattering=0,\n    project_vectors=False,\n    beta=(2*np.pi)/wavelength\n)\nExcuda, Eycuda, Ezcuda = FD.calculate_scattering(\n    aperture_coords=transmitting_antenna_surface_coords,\n    sink_coords=receiving_antenna_surface_coords,\n    antenna_solid=blockers,\n    desired_E_axis=transmit_horn.excitation_function(desired_e_vector=desired_E_axis,transmit_power=0.25),\n    scatter_points=scatter_points,\n    wavelength=wavelength,\n    scattering=0,\n    project_vectors=False,\n    beta=(2*np.pi)/wavelength,\n    cuda=True\n\n)\nprint(\"sumdiff\",(np.sum((Ex-Excuda))))\nprint(\"sumdiff\",(np.sum((Ey-Eycuda))))\nprint(\"sumdiff\",(np.sum((Ez-Ezcuda))))"
      ]
    },
    {
      "cell_type": "markdown",
      "metadata": {},
      "source": [
        "# Examine Scattering\r\n\r\nThe resultant scattering is decomposed into the Ex,Ey,Ez components at\r\nthe receiving antenna, by itself this is not that interesting, so for\r\nthis example we will rotate the reflector back, and then create a loop\r\nto step the reflector through different angles from 0 to 90 degrees in 1\r\ndegree steps.\r\n"
      ]
    },
    {
      "cell_type": "code",
      "execution_count": null,
      "metadata": {
        "collapsed": false
      },
      "outputs": [],
      "source": [
        "angle_values = np.linspace(0, 90, 181)\nangle_increment = np.diff(angle_values)[0]\nresponsex = np.zeros((len(angle_values)), dtype=\"complex\")\nresponsey = np.zeros((len(angle_values)), dtype=\"complex\")\nresponsez = np.zeros((len(angle_values)), dtype=\"complex\")\n\nplate_orientation_angle = -45.0\n\nrotation_vector = np.radians(\n    np.asarray([0.0, 0.0, plate_orientation_angle + 0.0])\n)\nscatter_points = GF.mesh_rotate(scatter_points,rotation_vector)\nreflectorplate = GF.mesh_rotate(reflectorplate,rotation_vector)\n\nfrom tqdm import tqdm\n\nfor angle_inc in tqdm(range(len(angle_values))):\n    rotation_vector = np.radians(np.asarray([0.0, 0.0, angle_values[angle_inc]]))\n    scatter_points_temp = GF.mesh_rotate(scatter_points,rotation_vector)\n    reflectorplate_temp = GF.mesh_rotate(reflectorplate,rotation_vector)\n    blockers = structures([reflectorplate_temp, receive_horn_structure, transmit_horn_structure])\n    \n    #Scattered Path\n    \n    Ex, Ey, Ez = FD.calculate_scattering(\n        aperture_coords=transmitting_antenna_surface_coords,\n        sink_coords=scatter_points_temp,\n        antenna_solid=blockers,\n        desired_E_axis=transmit_horn.excitation_function(desired_e_vector=desired_E_axis,transmit_power=0.25),\n        scatter_points=scatter_points_temp,\n        wavelength=wavelength,\n        scattering=0,\n        project_vectors=False,\n        beta=(2*np.pi)/wavelength\n    )\n    scattered_field=np.array([Ex, \n    Ey, \n    Ez]).transpose()\n        \n    Ex2, Ey2, Ez2 = FD.calculate_scattering(\n        aperture_coords=scatter_points_temp,\n        sink_coords=receiving_antenna_surface_coords,\n        antenna_solid=blockers,\n        desired_E_axis=scattered_field,\n        scatter_points=scatter_points_temp,\n        wavelength=wavelength,\n        scattering=0,\n        project_vectors=False,\n        beta=(2*np.pi)/wavelength\n    )\n    \n    # Line of Sight Path\n    \n    Ex3, Ey3, Ez3 = FD.calculate_scattering(\n        aperture_coords=transmitting_antenna_surface_coords,\n        sink_coords=receiving_antenna_surface_coords,\n        antenna_solid=blockers,\n        desired_E_axis=transmit_horn.excitation_function(desired_e_vector=desired_E_axis,transmit_power=0.25),\n        scatter_points=scatter_points_temp,\n        wavelength=wavelength,\n        scattering=0,\n        project_vectors=False,\n        beta=(2*np.pi)/wavelength\n    )\n    responsex[angle_inc] = np.sum((Ex2+Ex3)*receiving_antenna_surface_coords.point_data[\"Area\"])\n    responsey[angle_inc] = np.sum((Ey2+Ey3)*receiving_antenna_surface_coords.point_data[\"Area\"])\n    responsez[angle_inc] = np.sum((Ez2+Ez3)*receiving_antenna_surface_coords.point_data[\"Area\"])"
      ]
    },
    {
      "cell_type": "markdown",
      "metadata": {},
      "source": [
        "# Plot Normalised Response\r\n\r\nUsing matplotlib, plot the results\r\n"
      ]
    },
    {
      "cell_type": "code",
      "execution_count": null,
      "metadata": {
        "collapsed": false
      },
      "outputs": [],
      "source": [
        "import matplotlib.pyplot as plt\n\nnormalised_max = np.max(\n    np.array(\n        [\n            np.max(20 * np.log10(np.abs(responsex))),\n            np.max(20 * np.log10(np.abs(responsey))),\n            np.max(20 * np.log10(np.abs(responsez))),\n        ]\n    )\n)\nExdB = 20 * np.log10(np.abs(responsex)) - normalised_max\nEydB = 20 * np.log10(np.abs(responsey)) - normalised_max\nEzdB = 20 * np.log10(np.abs(responsez)) - normalised_max\n\nfig, ax = plt.subplots()\nax.plot(angle_values - 45, ExdB, label=\"Ex\")\nax.plot(angle_values - 45, EydB, label=\"Ey\")\nax.plot(angle_values - 45, EzdB, label=\"Ez\")\nplt.xlabel(\"$\\\\theta_{N}$ (degrees)\")\nplt.ylabel(\"Normalised Level (dB)\")\nax.set_ylim(-40.0, 0)\nax.set_xlim(np.min(angle_values) - 45, np.max(angle_values) - 45)\nax.set_xticks(np.linspace(np.min(angle_values) - 45, np.max(angle_values) - 45, 19))\nax.set_yticks(np.linspace(-40, 0.0, 21))\nlegend = ax.legend(loc=\"upper right\", shadow=True)\nplt.grid()\nplt.show()"
      ]
    }
  ],
  "metadata": {
    "kernelspec": {
      "display_name": "Python 3",
      "language": "python",
      "name": "python3"
    },
    "language_info": {
      "codemirror_mode": {
        "name": "ipython",
        "version": 3
      },
      "file_extension": ".py",
      "mimetype": "text/x-python",
      "name": "python",
      "nbconvert_exporter": "python",
      "pygments_lexer": "ipython3",
      "version": "3.10.17"
    }
  },
  "nbformat": 4,
  "nbformat_minor": 0
}