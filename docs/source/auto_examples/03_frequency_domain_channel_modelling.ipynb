{
  "cells": [
    {
      "cell_type": "code",
      "execution_count": null,
      "metadata": {
        "collapsed": false
      },
      "outputs": [],
      "source": [
        "# This cell is added by sphinx-gallery\n# It can be customized to whatever you like\n%matplotlib inline"
      ]
    },
    {
      "cell_type": "markdown",
      "metadata": {},
      "source": [
        "\n# Modelling a Physical Channel in the Frequency Domain\n\nThis example uses the frequency domain :func:`lyceanem.models.frequency_domain.calculate_scattering` function to\npredict the scattering parameters for the frequency and environment included in the model.\nThis model allows for a very wide range of antennas and antenna arrays to be considered, but for simplicity only horn\nantennas will be included in this example. The simplest case would be a single source point and single receive point,\nrather than an aperture antenna such as a horn.\n"
      ]
    },
    {
      "cell_type": "code",
      "execution_count": null,
      "metadata": {
        "collapsed": false
      },
      "outputs": [],
      "source": [
        "import numpy as np"
      ]
    },
    {
      "cell_type": "markdown",
      "metadata": {},
      "source": [
        "## Frequency and Mesh Resolution\n\n\n"
      ]
    },
    {
      "cell_type": "code",
      "execution_count": null,
      "metadata": {
        "collapsed": false
      },
      "outputs": [],
      "source": [
        "freq = np.asarray(16.0e9)\nwavelength = 3e8 / freq\nmesh_resolution = 0.5 * wavelength"
      ]
    },
    {
      "cell_type": "markdown",
      "metadata": {},
      "source": [
        "## Setup transmitters and receivers\n\n\n"
      ]
    },
    {
      "cell_type": "code",
      "execution_count": null,
      "metadata": {
        "collapsed": false
      },
      "outputs": [],
      "source": [
        "import lyceanem.geometry.targets as TL\nimport lyceanem.geometry.geometryfunctions as GF\n\n\ntransmit_horn_structure, transmitting_antenna_surface_coords = TL.meshedHorn(\n    58e-3, 58e-3, 128e-3, 2e-3, 0.21, mesh_resolution\n)\n\nreceive_horn_structure, receiving_antenna_surface_coords = TL.meshedHorn(\n    58e-3, 58e-3, 128e-3, 2e-3, 0.21, mesh_resolution\n)"
      ]
    },
    {
      "cell_type": "markdown",
      "metadata": {},
      "source": [
        "## Position Transmitter\nrotate the transmitting antenna to the desired orientation, and then translate to final position.\n:func:`lyceanem.geometryfunctions.mesh_rotate` and :func:`lyceanem.geometryfunctions.translate_mesh` are used to achive this\n\n\n"
      ]
    },
    {
      "cell_type": "code",
      "execution_count": null,
      "metadata": {
        "collapsed": false
      },
      "outputs": [],
      "source": [
        "rotation_vector1 = np.radians(np.asarray([90.0, 0.0, 0.0]))\nrotation_vector2 = np.radians(np.asarray([0.0, 0.0, -90.0]))\nrotation_vector3 = np.radians(np.asarray([0.0, 0.0, 90.0]))\ntransmit_horn_structure = GF.mesh_rotate(\n    transmit_horn_structure,\n    rotation_vector1\n)\ntransmit_horn_structure = GF.mesh_rotate(transmit_horn_structure,rotation_vector2)\n\ntransmit_horn_structure = GF.translate_mesh(transmit_horn_structure,np.asarray([2.695, 0, 0]))\n\ntransmitting_antenna_surface_coords = GF.mesh_rotate(transmitting_antenna_surface_coords,rotation_vector1)\n\ntransmitting_antenna_surface_coords = GF.mesh_rotate(\n    transmitting_antenna_surface_coords,rotation_vector2)\n\ntransmitting_antenna_surface_coords = GF.translate_mesh(transmitting_antenna_surface_coords,np.asarray([2.695, 0, 0]))"
      ]
    },
    {
      "cell_type": "markdown",
      "metadata": {},
      "source": [
        "## Position Receiver\nrotate the receiving horn to desired orientation and translate to final position.\n\n"
      ]
    },
    {
      "cell_type": "code",
      "execution_count": null,
      "metadata": {
        "collapsed": false
      },
      "outputs": [],
      "source": [
        "receive_horn_structure = GF.mesh_rotate(receive_horn_structure,rotation_vector1)\n#receive_horn_structure = GF.mesh_rotate(receive_horn_structure,rotation_vector3)\nreceive_horn_structure = GF.translate_mesh(receive_horn_structure,np.asarray([0, 1.427, 0]))\nreceiving_antenna_surface_coords = GF.mesh_rotate(receiving_antenna_surface_coords,rotation_vector1)\n#receiving_antenna_surface_coords = GF.mesh_rotate(receiving_antenna_surface_coords,rotation_vector3)\nreceiving_antenna_surface_coords = GF.translate_mesh(receiving_antenna_surface_coords,np.asarray([0, 1.427, 0]))"
      ]
    },
    {
      "cell_type": "markdown",
      "metadata": {},
      "source": [
        "## Create Scattering Plate\nCreate a Scattering plate a source of multipath reflections\n\n"
      ]
    },
    {
      "cell_type": "code",
      "execution_count": null,
      "metadata": {
        "collapsed": false
      },
      "outputs": [],
      "source": [
        "reflectorplate, scatter_points = TL.meshedReflector(\n    0.3, 0.3, 6e-3, wavelength * 0.5, sides=\"front\"\n)\n\nposition_vector = np.asarray([29e-3, 0.0, 0])\nrotation_vector1 = np.radians(np.asarray([0.0, 90.0, 0.0]))\nscatter_points = GF.mesh_rotate(\n    scatter_points,\n   rotation_vector1\n)\nreflectorplate = GF.mesh_rotate(\n    reflectorplate,\n    rotation_vector1\n)\nreflectorplate = GF.translate_mesh(reflectorplate,position_vector)\nscatter_points = GF.translate_mesh(scatter_points,position_vector)"
      ]
    },
    {
      "cell_type": "markdown",
      "metadata": {},
      "source": [
        "## Specify Reflection Angle\nRotate the scattering plate to the optimum angle for reflection from the transmitting to receiving horn\n\n"
      ]
    },
    {
      "cell_type": "code",
      "execution_count": null,
      "metadata": {
        "collapsed": false
      },
      "outputs": [],
      "source": [
        "plate_orientation_angle = 45.0\n\nrotation_vector = np.radians(np.asarray([0.0, 0.0, plate_orientation_angle]))\nscatter_points = GF.mesh_rotate(\n    scatter_points,\n    rotation_vector)\nreflectorplate = GF.mesh_rotate(\n    reflectorplate,\n    rotation_vector\n)\n\nfrom lyceanem.base_classes import structures\n\nblockers = structures([reflectorplate, receive_horn_structure, transmit_horn_structure])"
      ]
    },
    {
      "cell_type": "markdown",
      "metadata": {},
      "source": [
        "Visualise the Scene Geometry\n ------------------------------\n############################################NEED TO FIX THIS with pyvista\n\n"
      ]
    },
    {
      "cell_type": "code",
      "execution_count": null,
      "metadata": {
        "collapsed": false
      },
      "outputs": [],
      "source": [
        "import pyvista as pv\ndef structure_cells(array):\n    ## add collumn of 3s to beggining of each row\n    array = np.append(np.ones((array.shape[0], 1), dtype=np.int32) * 3, array, axis=1)\n    return array\npyvista_mesh = pv.PolyData(reflectorplate.points, structure_cells(reflectorplate.cells[0].data))\npyvista_mesh2 = pv.PolyData(receive_horn_structure.points, structure_cells(receive_horn_structure.cells[0].data))\npyvista_mesh3 = pv.PolyData(transmit_horn_structure.points, structure_cells(transmit_horn_structure.cells[0].data))\n## plot the mesh\nplotter = pv.Plotter()\nplotter.add_mesh(pyvista_mesh, color=\"white\", show_edges=True)\nplotter.add_mesh(pyvista_mesh2, color=\"blue\", show_edges=True)\nplotter.add_mesh(pyvista_mesh3, color=\"red\", show_edges=True)\nplotter.add_axes_at_origin()\nplotter.show()\n# Specify desired Transmit Polarisation\n# --------------------------------------\n# The transmit polarisation has a significant effect on the channel characteristics. In this example the transmit\n# horn will be vertically polarised, (e-vector aligned with the y direction)\n\ndesired_E_axis = np.zeros((1, 3), dtype=np.float32)\ndesired_E_axis[0, 1] = 1.0"
      ]
    },
    {
      "cell_type": "markdown",
      "metadata": {},
      "source": [
        "## Frequency Domain Scattering\nOnce the arrangement of interest has been setup, :func:`lyceanem.models.frequency_domain.calculate_scattering` can\nbe called, using raycasting to calculate the scattering parameters based upon the inputs. The scattering parameter\ndetermines how many reflections will be considered. A value of 0 would mean only line of sight contributions will be\ncalculated, with 1 including single reflections, and 2 including double reflections as well.\n\n"
      ]
    },
    {
      "cell_type": "code",
      "execution_count": null,
      "metadata": {
        "collapsed": false
      },
      "outputs": [],
      "source": [
        "import lyceanem.models.frequency_domain as FD\n\nEx, Ey, Ez = FD.calculate_scattering(\n    aperture_coords=transmitting_antenna_surface_coords,\n    sink_coords=receiving_antenna_surface_coords,\n    antenna_solid=blockers,\n    desired_E_axis=desired_E_axis,\n    scatter_points=scatter_points,\n    wavelength=wavelength,\n    scattering=1,\n    project_vectors=False\n)"
      ]
    },
    {
      "cell_type": "markdown",
      "metadata": {},
      "source": [
        "## Examine Scattering\nThe resultant scattering is decomposed into the Ex,Ey,Ez components at the receiving antenna, by itself this is not\nthat interesting, so for this example we will rotate the reflector back, and then create a loop to step the reflector\nthrough different angles from 0 to 90 degrees in 1 degree steps.\n\n"
      ]
    },
    {
      "cell_type": "code",
      "execution_count": null,
      "metadata": {
        "collapsed": false
      },
      "outputs": [],
      "source": [
        "angle_values = np.linspace(0, 90, 181)\nangle_increment = np.diff(angle_values)[0]\nresponsex = np.zeros((len(angle_values)), dtype=\"complex\")\nresponsey = np.zeros((len(angle_values)), dtype=\"complex\")\nresponsez = np.zeros((len(angle_values)), dtype=\"complex\")\n\nplate_orientation_angle = -45.0\n\nrotation_vector = np.radians(\n    np.asarray([0.0, 0.0, plate_orientation_angle + 0.0])\n)\nscatter_points = GF.mesh_rotate(scatter_points,rotation_vector)\nreflectorplate = GF.mesh_rotate(reflectorplate,rotation_vector)\nimport copy\n\nfrom tqdm import tqdm\n\nfor angle_inc in tqdm(range(len(angle_values))):\n    rotation_vector = np.radians(np.asarray([0.0, 0.0, angle_values[angle_inc]]))\n    scatter_points_temp = GF.mesh_rotate(copy.deepcopy(scatter_points),rotation_vector)\n    reflectorplate_temp = GF.mesh_rotate(copy.deepcopy(reflectorplate),rotation_vector)\n    blockers = structures([reflectorplate_temp, receive_horn_structure, transmit_horn_structure])\n    # pyvista_mesh = pv.PolyData(reflectorplate_temp.points, structure_cells(reflectorplate_temp.cells[0].data))\n    # pyvista_mesh2 = pv.PolyData(receive_horn_structure.points, structure_cells(receive_horn_structure.cells[0].data))\n    # pyvista_mesh3 = pv.PolyData(transmit_horn_structure.points, structure_cells(transmit_horn_structure.cells[0].data))\n    # pyvista_mesh4 = pv.PolyData(scatter_points_temp.points)\n    # ## plot the mesh\n    # plotter = pv.Plotter()\n    # plotter.add_mesh(pyvista_mesh, color=\"white\", show_edges=True)\n    # plotter.add_mesh(pyvista_mesh2, color=\"blue\", show_edges=True)\n    # plotter.add_mesh(pyvista_mesh3, color=\"red\", show_edges=True)\n    # plotter.add_mesh(pyvista_mesh4, color=\"green\")\n    # plotter.add_axes_at_origin()\n    # plotter.show()\n    Ex, Ey, Ez = FD.calculate_scattering(\n        aperture_coords=transmitting_antenna_surface_coords,\n        sink_coords=receiving_antenna_surface_coords,\n        antenna_solid=blockers,\n        desired_E_axis=desired_E_axis,\n        scatter_points=scatter_points_temp,\n        wavelength=wavelength,\n        scattering=1,\n        project_vectors=False\n    )\n    responsex[angle_inc] = np.sum(Ex)\n    responsey[angle_inc] = np.sum(Ey)\n    responsez[angle_inc] = np.sum(Ez)"
      ]
    },
    {
      "cell_type": "markdown",
      "metadata": {},
      "source": [
        "## Plot Normalised Response\nUsing matplotlib, plot the results\n\n"
      ]
    },
    {
      "cell_type": "code",
      "execution_count": null,
      "metadata": {
        "collapsed": false
      },
      "outputs": [],
      "source": [
        "import matplotlib.pyplot as plt\n\nnormalised_max = np.max(\n    np.array(\n        [\n            np.max(20 * np.log10(np.abs(responsex))),\n            np.max(20 * np.log10(np.abs(responsey))),\n            np.max(20 * np.log10(np.abs(responsez))),\n        ]\n    )\n)\nExdB = 20 * np.log10(np.abs(responsex)) - normalised_max\nEydB = 20 * np.log10(np.abs(responsey)) - normalised_max\nEzdB = 20 * np.log10(np.abs(responsez)) - normalised_max\n\nfig, ax = plt.subplots()\nax.plot(angle_values - 45, ExdB, label=\"Ex\")\nax.plot(angle_values - 45, EydB, label=\"Ey\")\nax.plot(angle_values - 45, EzdB, label=\"Ez\")\nplt.xlabel(\"$\\\\theta_{N}$ (degrees)\")\nplt.ylabel(\"Normalised Level (dB)\")\nax.set_ylim(-60.0, 0)\nax.set_xlim(np.min(angle_values) - 45, np.max(angle_values) - 45)\nax.set_xticks(np.linspace(np.min(angle_values) - 45, np.max(angle_values) - 45, 19))\nax.set_yticks(np.linspace(-60, 0.0, 21))\nlegend = ax.legend(loc=\"upper right\", shadow=True)\nplt.grid()\nplt.show()"
      ]
    },
    {
      "cell_type": "code",
      "execution_count": null,
      "metadata": {
        "collapsed": false
      },
      "outputs": [],
      "source": [
        "# This is the last cell"
      ]
    }
  ],
  "metadata": {
    "kernelspec": {
      "display_name": "Python 3",
      "language": "python",
      "name": "python3"
    },
    "language_info": {
      "codemirror_mode": {
        "name": "ipython",
        "version": 3
      },
      "file_extension": ".py",
      "mimetype": "text/x-python",
      "name": "python",
      "nbconvert_exporter": "python",
      "pygments_lexer": "ipython3",
      "version": "3.10.0"
    }
  },
  "nbformat": 4,
  "nbformat_minor": 0
}