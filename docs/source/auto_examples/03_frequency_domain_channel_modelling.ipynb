{
  "cells": [
    {
      "cell_type": "code",
      "execution_count": null,
      "metadata": {
        "collapsed": false
      },
      "outputs": [],
      "source": [
        "# This cell is added by sphinx-gallery\n# It can be customized to whatever you like\n%matplotlib inline"
      ]
    },
    {
      "cell_type": "markdown",
      "metadata": {},
      "source": [
        "\n# Modelling a Physical Channel in the Frequency Domain\n\nThis example uses the frequency domain :func:`lyceanem.models.frequency_domain.calculate_scattering` function to\npredict the scattering parameters for the frequency and environment included in the model.\nThis model allows for a very wide range of antennas and antenna arrays to be considered, but for simplicity only horn\nantennas will be included in this example. The simplest case would be a single source point and single receive point,\nrather than an aperture antenna such as a horn.\n"
      ]
    },
    {
      "cell_type": "code",
      "execution_count": null,
      "metadata": {
        "collapsed": false
      },
      "outputs": [],
      "source": [
        "import numpy as np\nimport open3d as o3d\nimport copy"
      ]
    },
    {
      "cell_type": "markdown",
      "metadata": {},
      "source": [
        "## Frequency and Mesh Resolution\n\n\n"
      ]
    },
    {
      "cell_type": "code",
      "execution_count": null,
      "metadata": {
        "collapsed": false
      },
      "outputs": [],
      "source": [
        "freq = np.asarray(15.0e9)\nwavelength = 3e8 / freq\nmesh_resolution = 0.5 * wavelength"
      ]
    },
    {
      "cell_type": "markdown",
      "metadata": {},
      "source": [
        "## Setup transmitters and receivers\n\n\n"
      ]
    },
    {
      "cell_type": "code",
      "execution_count": null,
      "metadata": {
        "collapsed": false
      },
      "outputs": [],
      "source": [
        "import lyceanem.geometry.targets as TL\nimport lyceanem.geometry.geometryfunctions as GF\n\ntransmit_horn_structure, transmitting_antenna_surface_coords = TL.meshedHorn(\n    58e-3, 58e-3, 128e-3, 2e-3, 0.21, mesh_resolution\n)\nreceive_horn_structure, receiving_antenna_surface_coords = TL.meshedHorn(\n    58e-3, 58e-3, 128e-3, 2e-3, 0.21, mesh_resolution\n)"
      ]
    },
    {
      "cell_type": "markdown",
      "metadata": {},
      "source": [
        "## Position Transmitter\nrotate the transmitting antenna to the desired orientation, and then translate to final position.\n:func:`lyceanem.geometryfunctions.open3drotate` allows both the center of rotation to be defined, and ensures the\nright syntax is used for Open3d, as it was changed from 0.9.0 to 0.10.0 and onwards.\n\n\n"
      ]
    },
    {
      "cell_type": "code",
      "execution_count": null,
      "metadata": {
        "collapsed": false
      },
      "outputs": [],
      "source": [
        "rotation_vector1 = np.radians(np.asarray([90.0, 0.0, 0.0]))\nrotation_vector2 = np.radians(np.asarray([0.0, 0.0, -90.0]))\ntransmit_horn_structure = GF.open3drotate(\n    transmit_horn_structure,\n    o3d.geometry.TriangleMesh.get_rotation_matrix_from_xyz(rotation_vector1),\n)\ntransmit_horn_structure = GF.open3drotate(\n    transmit_horn_structure,\n    o3d.geometry.TriangleMesh.get_rotation_matrix_from_xyz(rotation_vector2),\n)\ntransmit_horn_structure.translate(np.asarray([2.695, 0, 0]), relative=True)\ntransmitting_antenna_surface_coords = GF.open3drotate(\n    transmitting_antenna_surface_coords,\n    o3d.geometry.TriangleMesh.get_rotation_matrix_from_xyz(rotation_vector1),\n)\ntransmitting_antenna_surface_coords = GF.open3drotate(\n    transmitting_antenna_surface_coords,\n    o3d.geometry.TriangleMesh.get_rotation_matrix_from_xyz(rotation_vector2),\n)\ntransmitting_antenna_surface_coords.translate(np.asarray([2.695, 0, 0]), relative=True)"
      ]
    },
    {
      "cell_type": "markdown",
      "metadata": {},
      "source": [
        "## Position Receiver\nrotate the receiving horn to desired orientation and translate to final position.\n\n"
      ]
    },
    {
      "cell_type": "code",
      "execution_count": null,
      "metadata": {
        "collapsed": false
      },
      "outputs": [],
      "source": [
        "receive_horn_structure = GF.open3drotate(\n    receive_horn_structure,\n    o3d.geometry.TriangleMesh.get_rotation_matrix_from_xyz(rotation_vector1),\n)\nreceive_horn_structure.translate(np.asarray([0, 1.427, 0]), relative=True)\nreceiving_antenna_surface_coords = GF.open3drotate(\n    receiving_antenna_surface_coords,\n    o3d.geometry.TriangleMesh.get_rotation_matrix_from_xyz(rotation_vector1),\n)\nreceiving_antenna_surface_coords.translate(np.asarray([0, 1.427, 0]), relative=True)"
      ]
    },
    {
      "cell_type": "markdown",
      "metadata": {},
      "source": [
        "## Create Scattering Plate\nCreate a Scattering plate a source of multipath reflections\n\n"
      ]
    },
    {
      "cell_type": "code",
      "execution_count": null,
      "metadata": {
        "collapsed": false
      },
      "outputs": [],
      "source": [
        "reflectorplate, scatter_points = TL.meshedReflector(\n    0.3, 0.3, 6e-3, wavelength * 0.5, sides=\"front\"\n)\nposition_vector = np.asarray([29e-3, 0.0, 0])\nrotation_vector1 = np.radians(np.asarray([0.0, 90.0, 0.0]))\nscatter_points = GF.open3drotate(\n    scatter_points,\n    o3d.geometry.TriangleMesh.get_rotation_matrix_from_xyz(rotation_vector1),\n)\nreflectorplate = GF.open3drotate(\n    reflectorplate,\n    o3d.geometry.TriangleMesh.get_rotation_matrix_from_xyz(rotation_vector1),\n)\nreflectorplate.translate(position_vector, relative=True)\nscatter_points.translate(position_vector, relative=True)"
      ]
    },
    {
      "cell_type": "markdown",
      "metadata": {},
      "source": [
        "## Specify Reflection Angle\nRotate the scattering plate to the optimum angle for reflection from the transmitting to receiving horn\n\n"
      ]
    },
    {
      "cell_type": "code",
      "execution_count": null,
      "metadata": {
        "collapsed": false
      },
      "outputs": [],
      "source": [
        "plate_orientation_angle = 45.0\n\nrotation_vector = np.radians(np.asarray([0.0, 0.0, plate_orientation_angle]))\nscatter_points = GF.open3drotate(\n    scatter_points,\n    o3d.geometry.TriangleMesh.get_rotation_matrix_from_xyz(rotation_vector),\n)\nreflectorplate = GF.open3drotate(\n    reflectorplate,\n    o3d.geometry.TriangleMesh.get_rotation_matrix_from_xyz(rotation_vector),\n)\n\nfrom lyceanem.base_classes import structures\n\nblockers = structures([reflectorplate, receive_horn_structure, transmit_horn_structure])"
      ]
    },
    {
      "cell_type": "markdown",
      "metadata": {},
      "source": [
        "## Visualise the Scene Geometry\nUse open3d function :func:`open3d.visualization.draw_geometries` to visualise the scene and ensure that all the\nrelavent sources and scatter points are correct. Point normal vectors can be displayed by pressing 'n' while the\nwindow is open.\n\n"
      ]
    },
    {
      "cell_type": "code",
      "execution_count": null,
      "metadata": {
        "collapsed": false
      },
      "outputs": [],
      "source": [
        "mesh_frame = o3d.geometry.TriangleMesh.create_coordinate_frame(\n    size=0.5, origin=[0, 0, 0]\n)\no3d.visualization.draw_geometries(\n    [\n        transmitting_antenna_surface_coords,\n        receiving_antenna_surface_coords,\n        scatter_points,\n        reflectorplate,\n        mesh_frame,\n        receive_horn_structure,\n        transmit_horn_structure,\n    ]\n)"
      ]
    },
    {
      "cell_type": "markdown",
      "metadata": {},
      "source": [
        "<img src=\"file://../_static/03_frequency_domain_channel_model_picture_01.png\">\n\n\n"
      ]
    },
    {
      "cell_type": "markdown",
      "metadata": {},
      "source": [
        "## Specify desired Transmit Polarisation\nThe transmit polarisation has a significant effect on the channel characteristics. In this example the transmit\nhorn will be vertically polarised, (e-vector aligned with the y direction)\n\n"
      ]
    },
    {
      "cell_type": "code",
      "execution_count": null,
      "metadata": {
        "collapsed": false
      },
      "outputs": [],
      "source": [
        "desired_E_axis = np.zeros((1, 3), dtype=np.float32)\ndesired_E_axis[0, 1] = 1.0"
      ]
    },
    {
      "cell_type": "markdown",
      "metadata": {},
      "source": [
        "## Frequency Domain Scattering\nOnce the arrangement of interest has been setup, :func:`lyceanem.models.frequency_domain.calculate_scattering` can\nbe called, using raycasting to calculate the scattering parameters based upon the inputs. The scattering parameter\ndetermines how many reflections will be considered. A value of 0 would mean only line of sight contributions will be\ncalculated, with 1 including single reflections, and 2 including double reflections as well.\n\n"
      ]
    },
    {
      "cell_type": "code",
      "execution_count": null,
      "metadata": {
        "collapsed": false
      },
      "outputs": [],
      "source": [
        "import lyceanem.models.frequency_domain as FD\n\nEx, Ey, Ez = FD.calculate_scattering(\n    aperture_coords=transmitting_antenna_surface_coords,\n    sink_coords=receiving_antenna_surface_coords,\n    antenna_solid=blockers,\n    desired_E_axis=desired_E_axis,\n    scatter_points=scatter_points,\n    wavelength=wavelength,\n    scattering=1,\n)"
      ]
    },
    {
      "cell_type": "markdown",
      "metadata": {},
      "source": [
        "## Examine Scattering\nThe resultant scattering is decomposed into the Ex,Ey,Ez components at the receiving antenna, by itself this is not\nthat interesting, so for this example we will rotate the reflector back, and then create a loop to step the reflector\nthrough different angles from 0 to 90 degrees in 1 degree steps.\n\n"
      ]
    },
    {
      "cell_type": "code",
      "execution_count": null,
      "metadata": {
        "collapsed": false
      },
      "outputs": [],
      "source": [
        "angle_values = np.linspace(0, 90, 91)\nangle_increment = np.diff(angle_values)[0]\nresponsex = np.zeros((len(angle_values)), dtype=\"complex\")\nresponsey = np.zeros((len(angle_values)), dtype=\"complex\")\nresponsez = np.zeros((len(angle_values)), dtype=\"complex\")\n\nplate_orientation_angle = -45.0\n\nrotation_vector = np.radians(\n    np.asarray([0.0, 0.0, plate_orientation_angle + angle_increment])\n)\nscatter_points = GF.open3drotate(\n    scatter_points,\n    o3d.geometry.TriangleMesh.get_rotation_matrix_from_xyz(rotation_vector),\n)\nreflectorplate = GF.open3drotate(\n    reflectorplate,\n    o3d.geometry.TriangleMesh.get_rotation_matrix_from_xyz(rotation_vector),\n)\n\nfrom tqdm import tqdm\n\nfor angle_inc in tqdm(range(len(angle_values))):\n    rotation_vector = np.radians(np.asarray([0.0, 0.0, angle_increment]))\n    scatter_points = GF.open3drotate(\n        scatter_points,\n        o3d.geometry.TriangleMesh.get_rotation_matrix_from_xyz(rotation_vector),\n    )\n    reflectorplate = GF.open3drotate(\n        reflectorplate,\n        o3d.geometry.TriangleMesh.get_rotation_matrix_from_xyz(rotation_vector),\n    )\n    Ex, Ey, Ez = FD.calculate_scattering(\n        aperture_coords=transmitting_antenna_surface_coords,\n        sink_coords=receiving_antenna_surface_coords,\n        antenna_solid=blockers,\n        desired_E_axis=desired_E_axis,\n        scatter_points=scatter_points,\n        wavelength=wavelength,\n        scattering=1,\n    )\n    responsex[angle_inc] = Ex\n    responsey[angle_inc] = Ey\n    responsez[angle_inc] = Ez"
      ]
    },
    {
      "cell_type": "markdown",
      "metadata": {},
      "source": [
        "## Plot Normalised Response\nUsing matplotlib, plot the results\n\n"
      ]
    },
    {
      "cell_type": "code",
      "execution_count": null,
      "metadata": {
        "collapsed": false
      },
      "outputs": [],
      "source": [
        "import matplotlib.pyplot as plt\n\nnormalised_max = np.max(\n    np.array(\n        [\n            np.max(20 * np.log10(np.abs(responsex))),\n            np.max(20 * np.log10(np.abs(responsey))),\n            np.max(20 * np.log10(np.abs(responsez))),\n        ]\n    )\n)\nExdB = 20 * np.log10(np.abs(responsex)) - normalised_max\nEydB = 20 * np.log10(np.abs(responsey)) - normalised_max\nEzdB = 20 * np.log10(np.abs(responsez)) - normalised_max\n\nfig, ax = plt.subplots()\nax.plot(angle_values - 45, ExdB, label=\"Ex\")\nax.plot(angle_values - 45, EydB, label=\"Ey\")\nax.plot(angle_values - 45, EzdB, label=\"Ez\")\nplt.xlabel(\"$\\\\theta_{N}$ (degrees)\")\nplt.ylabel(\"Normalised Level (dB)\")\nax.set_ylim(-60.0, 0)\nax.set_xlim(np.min(angle_values) - 45, np.max(angle_values) - 45)\nax.set_xticks(np.linspace(np.min(angle_values) - 45, np.max(angle_values) - 45, 19))\nax.set_yticks(np.linspace(-60, 0.0, 21))\nlegend = ax.legend(loc=\"upper right\", shadow=True)\nplt.grid()\nplt.show()"
      ]
    },
    {
      "cell_type": "code",
      "execution_count": null,
      "metadata": {
        "collapsed": false
      },
      "outputs": [],
      "source": [
        "# This is the last cell"
      ]
    }
  ],
  "metadata": {
    "kernelspec": {
      "display_name": "Python 3",
      "language": "python",
      "name": "python3"
    },
    "language_info": {
      "codemirror_mode": {
        "name": "ipython",
        "version": 3
      },
      "file_extension": ".py",
      "mimetype": "text/x-python",
      "name": "python",
      "nbconvert_exporter": "python",
      "pygments_lexer": "ipython3",
      "version": "3.8.13"
    }
  },
  "nbformat": 4,
  "nbformat_minor": 0
}