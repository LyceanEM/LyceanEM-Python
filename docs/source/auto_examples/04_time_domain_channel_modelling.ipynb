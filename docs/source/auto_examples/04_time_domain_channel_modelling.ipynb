{
  "cells": [
    {
      "cell_type": "code",
      "execution_count": null,
      "metadata": {
        "collapsed": false
      },
      "outputs": [],
      "source": [
        "%matplotlib inline"
      ]
    },
    {
      "cell_type": "markdown",
      "metadata": {},
      "source": [
        "\n# Modelling a Physical Channel in the Time Domain\n\nThis example uses the frequency domain :func:`lyceanem.models.time_domain.calculate_scattering` function to\npredict the time domain response for a given excitation signal and environment included in the model.\nThis model allows for a very wide range of antennas and antenna arrays to be considered, but for simplicity only horn\nantennas will be included in this example. The simplest case would be a single source point and single receive point,\nrather than an aperture antenna such as a horn.\n"
      ]
    },
    {
      "cell_type": "code",
      "execution_count": null,
      "metadata": {
        "collapsed": false
      },
      "outputs": [],
      "source": [
        "import numpy as np"
      ]
    },
    {
      "cell_type": "markdown",
      "metadata": {},
      "source": [
        "## Frequency and Mesh Resolution\n\n\n"
      ]
    },
    {
      "cell_type": "code",
      "execution_count": null,
      "metadata": {
        "collapsed": false
      },
      "outputs": [],
      "source": [
        "sampling_freq = 23e9\nmodel_time = 1e-7\nnum_samples = int(model_time * (sampling_freq))\n\n# simulate receiver noise\nbandwidth = 8e9\nkb = 1.38065e-23\nreceiver_impedence = 50\nthermal_noise_power = 4 * kb * 293.15 * receiver_impedence * bandwidth\nnoise_power = -80  # dbw\nmean_noise = 0\n\nmodel_freq = 10e9\nwavelength = 3e8 / model_freq"
      ]
    },
    {
      "cell_type": "markdown",
      "metadata": {},
      "source": [
        "## Setup transmitters and receivers\n\n\n"
      ]
    },
    {
      "cell_type": "code",
      "execution_count": null,
      "metadata": {
        "collapsed": false
      },
      "outputs": [],
      "source": [
        "import lyceanem.geometry.targets as TL\nimport lyceanem.geometry.geometryfunctions as GF\n\ntransmit_horn_structure, transmitting_antenna_surface_coords = TL.meshedHorn(\n    58e-3, 58e-3, 128e-3, 2e-3, 0.21, wavelength * 0.5\n)\nreceive_horn_structure, receiving_antenna_surface_coords = TL.meshedHorn(\n    58e-3, 58e-3, 128e-3, 2e-3, 0.21, wavelength * 0.5\n)"
      ]
    },
    {
      "cell_type": "markdown",
      "metadata": {},
      "source": [
        "## Position Transmitter\nrotate the transmitting antenna to the desired orientation, and then translate to final position.\n:func:`lyceanem.geometry.geometryfunctions.translate_mesh`, :func:`lyceanem.geometry.geometryfunctions.mesh_rotate` and :func:`lyceanem.geometry.geometryfunctions.mesh_transform` are included, allowing translation, rotation, and transformation of the meshio objects as required.\n\n\n"
      ]
    },
    {
      "cell_type": "code",
      "execution_count": null,
      "metadata": {
        "collapsed": false
      },
      "outputs": [],
      "source": [
        "rotation_vector1 = np.radians(np.asarray([90.0, 0.0, 0.0]))\nrotation_vector2 = np.radians(np.asarray([0.0, 0.0, -90.0]))\n\n\ntransmit_horn_structure = GF.mesh_rotate(transmit_horn_structure, rotation_vector1)\ntransmit_horn_structure = GF.mesh_rotate(transmit_horn_structure, rotation_vector2)\ntransmit_horn_structure = GF.mesh_translate(\n    transmit_horn_structure, np.asarray([2.695, 0, 0])\n)\ntransmitting_antenna_surface_coords = GF.mesh_rotate(\n    transmitting_antenna_surface_coords, rotation_vector1\n)\ntransmitting_antenna_surface_coords = GF.mesh_rotate(\n    transmitting_antenna_surface_coords, rotation_vector2\n)\ntransmitting_antenna_surface_coords = GF.mesh_translate(\n    transmitting_antenna_surface_coords, np.asarray([2.695, 0, 0])\n)"
      ]
    },
    {
      "cell_type": "markdown",
      "metadata": {},
      "source": [
        "## Position Receiver\nrotate the receiving horn to desired orientation and translate to final position.\n\n"
      ]
    },
    {
      "cell_type": "code",
      "execution_count": null,
      "metadata": {
        "collapsed": false
      },
      "outputs": [],
      "source": [
        "receive_horn_structure = GF.mesh_rotate(receive_horn_structure, rotation_vector1)\nreceive_horn_structure = GF.mesh_translate(\n    receive_horn_structure, np.asarray([0, 1.427, 0])\n)\nreceiving_antenna_surface_coords = GF.mesh_rotate(\n    receiving_antenna_surface_coords, rotation_vector1\n)\nreceiving_antenna_surface_coords = GF.mesh_translate(\n    receiving_antenna_surface_coords, np.asarray([0, 1.427, 0])\n)"
      ]
    },
    {
      "cell_type": "markdown",
      "metadata": {},
      "source": [
        "## Create Scattering Plate\nCreate a Scattering plate a source of multipath reflections\n\n"
      ]
    },
    {
      "cell_type": "code",
      "execution_count": null,
      "metadata": {
        "collapsed": false
      },
      "outputs": [],
      "source": [
        "reflectorplate, scatter_points = TL.meshedReflector(\n    0.3, 0.3, 6e-3, wavelength * 0.5, sides=\"front\"\n)\nposition_vector = np.asarray([29e-3, 0.0, 0])\nrotation_vector1 = np.radians(np.asarray([0.0, 90.0, 0.0]))\nscatter_points = GF.mesh_rotate(scatter_points, rotation_vector1)\nreflectorplate = GF.mesh_rotate(reflectorplate, rotation_vector1)\nreflectorplate = GF.mesh_translate(reflectorplate, position_vector)\nscatter_points = GF.mesh_translate(scatter_points, position_vector)"
      ]
    },
    {
      "cell_type": "markdown",
      "metadata": {},
      "source": [
        "## Specify Reflection Angle\nRotate the scattering plate to the optimum angle for reflection from the transmitting to receiving horn\n\n"
      ]
    },
    {
      "cell_type": "code",
      "execution_count": null,
      "metadata": {
        "collapsed": false
      },
      "outputs": [],
      "source": [
        "plate_orientation_angle = 45.0\n\nrotation_vector = np.radians(np.asarray([0.0, 0.0, plate_orientation_angle]))\nscatter_points = GF.mesh_rotate(scatter_points, rotation_vector)\nreflectorplate = GF.mesh_rotate(reflectorplate, rotation_vector)\nfrom lyceanem.base_classes import structures\n\nblockers = structures([reflectorplate, receive_horn_structure, transmit_horn_structure])"
      ]
    },
    {
      "cell_type": "markdown",
      "metadata": {},
      "source": [
        "## Visualise the Scene Geometry\n\n"
      ]
    },
    {
      "cell_type": "code",
      "execution_count": null,
      "metadata": {
        "collapsed": false
      },
      "outputs": [],
      "source": [
        "import pyvista as pv\n\n\n## plot the mesh\nplotter = pv.Plotter()\nplotter.add_mesh(pv.from_meshio(reflectorplate), color=\"white\", show_edges=True)\nplotter.add_mesh(pv.from_meshio(receive_horn_structure), color=\"blue\", show_edges=True)\nplotter.add_mesh(pv.from_meshio(transmit_horn_structure), color=\"red\", show_edges=True)\nplotter.add_axes_at_origin()\nplotter.show()"
      ]
    },
    {
      "cell_type": "markdown",
      "metadata": {},
      "source": [
        "## Specify desired Transmit Polarisation\nThe transmit polarisation has a significant effect on the channel characteristics. In this example the transmit horn will be vertically polarised, (e-vector aligned with the z direction)\n\n"
      ]
    },
    {
      "cell_type": "code",
      "execution_count": null,
      "metadata": {
        "collapsed": false
      },
      "outputs": [],
      "source": [
        "desired_E_axis = np.zeros((1, 3), dtype=np.float32)\ndesired_E_axis[0, 1] = 1.0"
      ]
    },
    {
      "cell_type": "markdown",
      "metadata": {},
      "source": [
        "## Time Domain Scattering\n\n\n"
      ]
    },
    {
      "cell_type": "code",
      "execution_count": null,
      "metadata": {
        "collapsed": false
      },
      "outputs": [],
      "source": [
        "import scipy.signal as sig\nimport lyceanem.models.time_domain as TD\nfrom lyceanem.base_classes import structures\n\n\nangle_values = np.linspace(0, 90, 91)\nangle_increment = np.diff(angle_values)[0]\nresponsex = np.zeros((len(angle_values)), dtype=\"complex\")\nresponsey = np.zeros((len(angle_values)), dtype=\"complex\")\nresponsez = np.zeros((len(angle_values)), dtype=\"complex\")\n\nplate_orientation_angle = -45.0\n\nrotation_vector = np.radians(\n    np.asarray([0.0, 0.0, plate_orientation_angle + angle_increment])\n)\nscatter_points = GF.mesh_rotate(scatter_points, rotation_vector)\nreflectorplate = GF.mesh_rotate(reflectorplate, rotation_vector)\n\nfrom tqdm import tqdm\n\nwake_times = np.zeros((len(angle_values)))\nEx = np.zeros((len(angle_values), num_samples))\nEy = np.zeros((len(angle_values), num_samples))\nEz = np.zeros((len(angle_values), num_samples))\n\nfor angle_inc in tqdm(range(len(angle_values))):\n    rotation_vector = np.radians(np.asarray([0.0, 0.0, angle_increment]))\n    scatter_points = GF.mesh_rotate(scatter_points, rotation_vector)\n    reflectorplate = GF.mesh_rotate(reflectorplate, rotation_vector)\n    blockers = structures(\n        [reflectorplate, transmit_horn_structure, receive_horn_structure]\n    )\n    pulse_time = 5e-9\n    output_power = 0.01  # dBwatts\n    powerdbm = 10 * np.log10(output_power) + 30\n    v_transmit = ((10 ** (powerdbm / 20)) * receiver_impedence) ** 0.5\n    output_amplitude_rms = v_transmit / (1 / np.sqrt(2))\n    output_amplitude_peak = v_transmit\n\n    desired_E_axis = np.zeros((1, 3), dtype=np.float32)\n    desired_E_axis[0, 1] = 1.0\n    noise_volts_peak = (10 ** (noise_power / 10) * receiver_impedence) * 0.5\n\n    excitation_signal = output_amplitude_rms * sig.chirp(\n        np.linspace(0, pulse_time, int(pulse_time * sampling_freq)),\n        model_freq - bandwidth,\n        pulse_time,\n        model_freq,\n        method=\"linear\",\n        phi=0,\n        vertex_zero=True,\n    ) + np.random.normal(mean_noise, noise_volts_peak, int(pulse_time * sampling_freq))\n    (\n        Ex[angle_inc, :],\n        Ey[angle_inc, :],\n        Ez[angle_inc, :],\n        wake_times[angle_inc],\n    ) = TD.calculate_scattering(\n        transmitting_antenna_surface_coords,\n        receiving_antenna_surface_coords,\n        excitation_signal,\n        blockers,\n        desired_E_axis,\n        scatter_points=scatter_points,\n        wavelength=wavelength,\n        scattering=1,\n        elements=False,\n        sampling_freq=sampling_freq,\n        num_samples=num_samples,\n        beta=(2 * np.pi) / wavelength,\n    )\n\n    noise_volts = np.random.normal(mean_noise, noise_volts_peak, num_samples)\n    Ex[angle_inc, :] = Ex[angle_inc, :] + noise_volts\n    Ey[angle_inc, :] = Ey[angle_inc, :] + noise_volts\n    Ez[angle_inc, :] = Ez[angle_inc, :] + noise_volts"
      ]
    },
    {
      "cell_type": "markdown",
      "metadata": {},
      "source": [
        "## Plot Normalised Response\nUsing matplotlib, plot the results\n\n"
      ]
    },
    {
      "cell_type": "code",
      "execution_count": null,
      "metadata": {
        "collapsed": false
      },
      "outputs": [],
      "source": [
        "import matplotlib.pyplot as plt\n\ntime_index = np.linspace(0, model_time * 1e9, num_samples)\ntime, anglegrid = np.meshgrid(time_index[:1801], angle_values - 45)\nnorm_max = np.nanmax(\n    np.array(\n        [\n            np.nanmax(10 * np.log10((Ex**2) / receiver_impedence)),\n            np.nanmax(10 * np.log10((Ey**2) / receiver_impedence)),\n            np.nanmax(10 * np.log10((Ez**2) / receiver_impedence)),\n        ]\n    )\n)\n\nfig2, ax2 = plt.subplots(constrained_layout=True)\norigin = \"lower\"\n# Now make a contour plot with the levels specified,\n# and with the colormap generated automatically from a list\n# of colors.\n\nlevels = np.linspace(-80, 0, 41)\n\nCS = ax2.contourf(\n    anglegrid,\n    time,\n    10 * np.log10((Ez[:, :1801] ** 2) / receiver_impedence) - norm_max,\n    levels,\n    origin=origin,\n    extend=\"both\",\n)\ncbar = fig2.colorbar(CS)\ncbar.ax.set_ylabel(\"Received Power (dBm)\")\n\nax2.set_ylim(0, 30)\nax2.set_xlim(-45, 45)\n\nax2.set_xticks(np.linspace(-45, 45, 7))\nax2.set_yticks(np.linspace(0, 30, 16))\n\nax2.set_xlabel(\"Rotation Angle (degrees)\")\nax2.set_ylabel(\"Time of Flight (ns)\")\nax2.set_title(\"Received Power vs Time for rotating Plate (24GHz)\")\n\nfrom scipy.fft import fft, fftfreq\nimport scipy\n\nxf = fftfreq(len(time_index), 1 / sampling_freq)[: len(time_index) // 2]\nfrequency_index = np.where(xf == model_freq)\ninput_signal = excitation_signal * (output_amplitude_peak)\ninputfft = fft(input_signal)\ninput_freq = fftfreq(120, 1 / sampling_freq)[:60]\nfreqfuncabs = scipy.interpolate.interp1d(input_freq, np.abs(inputfft[:60]))\nfreqfuncangle = scipy.interpolate.interp1d(input_freq, np.angle(inputfft[:60]))\nnewinput = freqfuncabs(xf[frequency_index]) * np.exp(freqfuncangle(xf[frequency_index]))\nExf = fft(Ex)\nEyf = fft(Ey)\nEzf = fft(Ez)"
      ]
    },
    {
      "cell_type": "markdown",
      "metadata": {},
      "source": [
        "## Frequency Specific Results\nThe time of flight plot is useful to displaying the output of the model, giving a understanding about what is\nphysically happening in the channel, but to get an idea of the behaviour in the frequency domain we need to use a\nfourier transform to move from time and voltages to frequency.\n\n"
      ]
    },
    {
      "cell_type": "code",
      "execution_count": null,
      "metadata": {
        "collapsed": false
      },
      "outputs": [],
      "source": [
        "s21x = 20 * np.log10(np.abs(Exf[:, frequency_index] / newinput)).ravel()\ns21y = 20 * np.log10(np.abs(Eyf[:, frequency_index] / newinput)).ravel()\ns21z = 20 * np.log10(np.abs(Ezf[:, frequency_index] / newinput)).ravel()\ntdangles = np.linspace(-45, 45, 91)\nfig, ax = plt.subplots()\nax.plot(tdangles, s21x - np.max(s21z), label=\"Ex\")\nax.plot(tdangles, s21y - np.max(s21z), label=\"Ey\")\nax.plot(tdangles, s21z - np.max(s21z), label=\"Ez\")\nplt.xlabel(\"$\\\\theta_{N}$ (degrees)\")\nplt.ylabel(\"Normalised Level (dB)\")\nax.set_ylim(-60.0, 0)\nax.set_xlim(np.min(angle_values) - 45, np.max(angle_values) - 45)\nax.set_xticks(np.linspace(np.min(angle_values) - 45, np.max(angle_values) - 45, 19))\nax.set_yticks(np.linspace(-60, 0.0, 21))\nlegend = ax.legend(loc=\"upper right\", shadow=True)\nplt.grid()\nplt.title(\"$S_{21}$ at 16GHz\")\nplt.show()"
      ]
    }
  ],
  "metadata": {
    "kernelspec": {
      "display_name": "Python 3",
      "language": "python",
      "name": "python3"
    },
    "language_info": {
      "codemirror_mode": {
        "name": "ipython",
        "version": 3
      },
      "file_extension": ".py",
      "mimetype": "text/x-python",
      "name": "python",
      "nbconvert_exporter": "python",
      "pygments_lexer": "ipython3",
      "version": "3.12.10"
    }
  },
  "nbformat": 4,
  "nbformat_minor": 0
}