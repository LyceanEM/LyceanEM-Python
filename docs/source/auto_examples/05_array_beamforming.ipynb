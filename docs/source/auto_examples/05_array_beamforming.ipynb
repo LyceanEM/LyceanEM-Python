{
  "cells": [
    {
      "cell_type": "code",
      "execution_count": null,
      "metadata": {
        "collapsed": false
      },
      "outputs": [],
      "source": [
        "%matplotlib inline\nfrom pyvista import set_plot_theme\nset_plot_theme('document')"
      ]
    },
    {
      "cell_type": "markdown",
      "metadata": {},
      "source": [
        "# Array Beamforming\r\n\r\nThis example uses the frequency domain\r\n`lyceanem.models.frequency_domain.calculate_farfield`{.interpreted-text\r\nrole=\"func\"} function to predict the farfield patterns for a linearly\r\npolarised aperture with multiple elements. This is then beamformed to\r\nall farfield points using multiple open loop beamforming algorithms to\r\nattemp to \\'map\\' out the acheivable beamforming for the antenna array\r\nusing\r\n`lyceanem.electromagnetics.beamforming.MaximumDirectivityMap`{.interpreted-text\r\nrole=\"func\"}.\r\n\r\nThe Steering Efficiency can then be evaluated using\r\n`lyceanem.electromagnetics.beamforming.Steering_Efficiency`{.interpreted-text\r\nrole=\"func\"} for the resultant achieved beamforming.\r\n"
      ]
    },
    {
      "cell_type": "code",
      "execution_count": null,
      "metadata": {
        "collapsed": false
      },
      "outputs": [],
      "source": [
        "import numpy as np"
      ]
    },
    {
      "cell_type": "markdown",
      "metadata": {},
      "source": [
        "# Setting Farfield Resolution and Wavelength\r\n\r\nLyceanEM uses Elevation and Azimuth to record spherical coordinates,\r\nranging from -180 to 180 degrees in azimuth, and from -90 to 90 degrees\r\nin elevation. In order to launch the aperture projection function, the\r\nresolution in both azimuth and elevation is required. In order to ensure\r\na fast example, 37 points have been used here for both, giving a total\r\nof 1369 farfield points.\r\n\r\nThe wavelength of interest is also an important variable for antenna\r\narray analysis, so we set it now for 10GHz, an X band aperture.\r\n"
      ]
    },
    {
      "cell_type": "code",
      "execution_count": null,
      "metadata": {
        "collapsed": false
      },
      "outputs": [],
      "source": [
        "az_res = 181\nelev_res = 37\nwavelength = 3e8 / 10e9"
      ]
    },
    {
      "cell_type": "markdown",
      "metadata": {},
      "source": [
        "# Geometries\r\n\r\nIn order to make things easy to start, an example geometry has been\r\nincluded within LyceanEM for a UAV, and the mesh structures can be\r\naccessed by importing the data subpackage\r\n"
      ]
    },
    {
      "cell_type": "code",
      "execution_count": null,
      "metadata": {
        "collapsed": false
      },
      "outputs": [],
      "source": [
        "import lyceanem.tests.reflectordata as data\n\nimport lyceanem.tests.reflectordata as data\n\nbody = data.UAV_Demo(wavelength * 0.5)\narray = data.UAV_Demo_Aperture(wavelength * 0.5)"
      ]
    },
    {
      "cell_type": "code",
      "execution_count": null,
      "metadata": {
        "collapsed": false
      },
      "outputs": [],
      "source": [
        "import pyvista as pv\n\npl = pv.Plotter()\npl.add_mesh(pv.from_meshio(body), color=\"green\")\npl.add_mesh(pv.from_meshio(array))\npl.add_axes()\npl.show()\n\n\nfrom lyceanem.base_classes import structures, points, antenna_structures\n\nblockers = structures([body])\naperture = points([array])\narray_on_platform = antenna_structures(blockers, aperture)"
      ]
    },
    {
      "cell_type": "markdown",
      "metadata": {},
      "source": [
        "# Model Farfield Array Patterns\r\n\r\nThe same function is used to predict the farfield pattern of each\r\nelement in the array, but the variable \\'elements\\' is set as True,\r\ninstructing the function to return the antenna patterns as 3D arrays\r\narranged with axes element, elevation points, and azimuth points. These\r\ncan then be beamformed using the desired beamforming algorithm. LyceanEM\r\ncurrently includes two open loop algorithms for phase weights\r\n`lyceanem.electromagnetics.beamforming.EGCWeights`{.interpreted-text\r\nrole=\"func\"}, and\r\n`lyceanem.electromagnetics.beamforming.WavefrontWeights`{.interpreted-text\r\nrole=\"func\"}\r\n"
      ]
    },
    {
      "cell_type": "code",
      "execution_count": null,
      "metadata": {
        "collapsed": false
      },
      "outputs": [],
      "source": [
        "from lyceanem.models.frequency_domain import calculate_farfield\n\ndesired_E_axis = np.zeros((1, 3), dtype=np.float32)\ndesired_E_axis[0, 1] = 1.0\n\nEtheta, Ephi = calculate_farfield(\n    array_on_platform.export_all_points(),\n    blockers,\n    array_on_platform.excitation_function(desired_e_vector=desired_E_axis),\n    az_range=np.linspace(-180, 180, az_res),\n    el_range=np.linspace(-90, 90, elev_res),\n    wavelength=wavelength,\n    farfield_distance=20,\n    elements=True,\n    project_vectors=False,\n    beta=(2 * np.pi) / wavelength,\n)\n\n\nfrom lyceanem.electromagnetics.beamforming import MaximumDirectivityMap\n\naz_range = np.linspace(-180, 180, az_res)\nel_range = np.linspace(-90, 90, elev_res)\nnum_elements = Etheta.shape[0]\ndirectivity_map = MaximumDirectivityMap(\n    Etheta.reshape(num_elements, elev_res, az_res),\n    Ephi.reshape(num_elements, elev_res, az_res),\n    array,\n    wavelength,\n    az_range,\n    el_range,\n)\n\nfrom lyceanem.electromagnetics.beamforming import PatternPlot\n\naz_mesh, elev_mesh = np.meshgrid(az_range, el_range)\n\nPatternPlot(\n    directivity_map[:, :, 2], az_mesh, elev_mesh, logtype=\"power\", plottype=\"Contour\"\n)\n\n\nfrom lyceanem.electromagnetics.beamforming import Steering_Efficiency\n\nsetheta, sephi, setot = Steering_Efficiency(\n    directivity_map[:, :, 0],\n    directivity_map[:, :, 1],\n    directivity_map[:, :, 2],\n    np.radians(np.diff(el_range)[0]),\n    np.radians(np.diff(az_range)[0]),\n    4 * np.pi,\n)\n\nprint(\"Steering Effciency of {:3.1f}%\".format(setot))\n\n\nprint(\n    \"Maximum Directivity of {:3.1f} dBi\".format(\n        np.nanmax(10 * np.log10(directivity_map[:, :, 2]))\n    )\n)\nfrom lyceanem.geometry.targets import spherical_field\nfrom lyceanem.electromagnetics.beamforming import create_display_mesh\n\npattern_mesh = spherical_field(az_range, el_range, outward_normals=True)\npattern_mesh.point_data[\"D(Total)\"] = directivity_map[:, :, 2].ravel()\ndisplay_mesh = create_display_mesh(pattern_mesh, label=\"D(Total)\", dynamic_range=60)\ndisplay_mesh.point_data[\"D(Total-dBi)\"] = 10 * np.log10(\n    display_mesh.point_data[\"D(Total)\"]\n)\nplot_max = 5 * np.ceil(np.nanmax(display_mesh.point_data[\"D(Total-dBi)\"]) / 5)\n\n\npl = pv.Plotter()\npl.add_mesh(pv.from_meshio(body), color=\"green\")\npl.add_mesh(pv.from_meshio(array), color=\"aqua\")\npl.add_mesh(\n    display_mesh,\n    scalars=\"D(Total-dBi)\",\n    style=\"points\",\n    clim=[plot_max - 60, plot_max],\n)\npl.add_axes()\npl.show()"
      ]
    }
  ],
  "metadata": {
    "kernelspec": {
      "display_name": "Python 3",
      "language": "python",
      "name": "python3"
    },
    "language_info": {
      "codemirror_mode": {
        "name": "ipython",
        "version": 3
      },
      "file_extension": ".py",
      "mimetype": "text/x-python",
      "name": "python",
      "nbconvert_exporter": "python",
      "pygments_lexer": "ipython3",
      "version": "3.12.10"
    }
  },
  "nbformat": 4,
  "nbformat_minor": 0
}