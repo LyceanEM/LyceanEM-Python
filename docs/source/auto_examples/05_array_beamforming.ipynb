{
  "cells": [
    {
      "cell_type": "code",
      "execution_count": null,
      "metadata": {
        "collapsed": false
      },
      "outputs": [],
      "source": [
        "# This cell is added by sphinx-gallery\n# It can be customized to whatever you like\n%matplotlib inline"
      ]
    },
    {
      "cell_type": "markdown",
      "metadata": {},
      "source": [
        "\n# Array Beamforming\n\nThis example uses the frequency domain :func:`lyceanem.models.frequency_domain.calculate_farfield` function to predict\nthe farfield patterns for a linearly polarised aperture with multiple elements. This is then beamformed to all farfield points using multiple open loop beamforming algorithms to attemp to 'map' out the acheivable beamforming for the antenna array using :func:`lyceanem.electromagnetics.beamforming.MaximumDirectivityMap`.\n\nThe Steering Efficiency can then be evaluated using :func:`lyceanem.electromagnetics.beamforming.Steering_Efficiency` for the resultant achieved beamforming.\n"
      ]
    },
    {
      "cell_type": "code",
      "execution_count": null,
      "metadata": {
        "collapsed": false
      },
      "outputs": [],
      "source": [
        "import numpy as np\nimport open3d as o3d\nimport copy"
      ]
    },
    {
      "cell_type": "markdown",
      "metadata": {},
      "source": [
        "## Setting Farfield Resolution and Wavelength\nLyceanEM uses Elevation and Azimuth to record spherical coordinates, ranging from -180 to 180 degrees in azimuth,\nand from -90 to 90 degrees in elevation. In order to launch the aperture projection function, the resolution in\nboth azimuth and elevation is requried.\nIn order to ensure a fast example, 37 points have been used here for both, giving a total of 1369 farfield points.\n\nThe wavelength of interest is also an important variable for antenna array analysis, so we set it now for 10GHz,\nan X band aperture.\n\n"
      ]
    },
    {
      "cell_type": "code",
      "execution_count": null,
      "metadata": {
        "collapsed": false
      },
      "outputs": [],
      "source": [
        "az_res = 181\nelev_res = 37\nwavelength = 3e8 / 10e9"
      ]
    },
    {
      "cell_type": "markdown",
      "metadata": {},
      "source": [
        "## Geometries\nIn order to make things easy to start, an example geometry has been included within LyceanEM for a UAV, and the\n:class:`open3d.geometry.TriangleMesh` structures can be accessed by importing the data subpackage\n\n"
      ]
    },
    {
      "cell_type": "code",
      "execution_count": null,
      "metadata": {
        "collapsed": false
      },
      "outputs": [],
      "source": [
        "import lyceanem.tests.reflectordata as data\n\nbody, array, source_coords = data.exampleUAV(10e9)"
      ]
    },
    {
      "cell_type": "markdown",
      "metadata": {},
      "source": [
        "## Visualise the Resultant UAV and Array\n:func:`open3d.visualization.draw_geometries` can be used to visualise the open3d data\nstructures :class:`open3d.geometry.PointCloud` and :class:`open3d.geometry.PointCloud`\n\n"
      ]
    },
    {
      "cell_type": "code",
      "execution_count": null,
      "metadata": {
        "collapsed": false
      },
      "outputs": [],
      "source": [
        "mesh_frame = o3d.geometry.TriangleMesh.create_coordinate_frame(\n    size=0.5, origin=[0, 0, 0]\n)\no3d.visualization.draw_geometries([body, array, source_coords, mesh_frame])"
      ]
    },
    {
      "cell_type": "markdown",
      "metadata": {},
      "source": [
        "<img src=\"file://../_static/UAVArraywithPoints.png\">\n\n"
      ]
    },
    {
      "cell_type": "code",
      "execution_count": null,
      "metadata": {
        "collapsed": false
      },
      "outputs": [],
      "source": [
        "from lyceanem.base_classes import structures\n\nblockers = structures([body, array])"
      ]
    },
    {
      "cell_type": "markdown",
      "metadata": {},
      "source": [
        "## Model Farfield Array Patterns\nThe same function is used to predict the farfield pattern of each element in the array, but the variable 'elements'\nis set as True, instructing the function to return the antenna patterns as 3D arrays arranged with axes element,\nelevation points, and azimuth points. These can then be beamformed using the desired beamforming algorithm. LyceanEM\ncurrently includes two open loop algorithms for phase weights :func:`lyceanem.electromagnetics.beamforming.EGCWeights`,\nand :func:`lyceanem.electromagnetics.beamforming.WavefrontWeights`\n\n"
      ]
    },
    {
      "cell_type": "code",
      "execution_count": null,
      "metadata": {
        "collapsed": false
      },
      "outputs": [],
      "source": [
        "from lyceanem.models.frequency_domain import calculate_farfield\n\ndesired_E_axis = np.zeros((1, 3), dtype=np.float32)\ndesired_E_axis[0, 2] = 1.0\n\nEtheta, Ephi = calculate_farfield(\n    source_coords,\n    blockers,\n    desired_E_axis,\n    az_range=np.linspace(-180, 180, az_res),\n    el_range=np.linspace(-90, 90, elev_res),\n    wavelength=wavelength,\n    farfield_distance=20,\n    elements=True,\n    project_vectors=True,\n)\n\n\nfrom lyceanem.electromagnetics.beamforming import MaximumDirectivityMap\n\naz_range = np.linspace(-180, 180, az_res)\nel_range = np.linspace(-90, 90, elev_res)\ndirectivity_map = MaximumDirectivityMap(\n    Etheta, Ephi, source_coords, wavelength, az_range, el_range\n)\n\nfrom lyceanem.electromagnetics.beamforming import PatternPlot\n\naz_mesh, elev_mesh = np.meshgrid(az_range, el_range)\n\nPatternPlot(\n    directivity_map[:, :, 2], az_mesh, elev_mesh, logtype=\"power\", plottype=\"Contour\"\n)"
      ]
    },
    {
      "cell_type": "markdown",
      "metadata": {},
      "source": [
        "<img src=\"file://../_static/sphx_glr_05_array_beamforming_001.png\">\n\n"
      ]
    },
    {
      "cell_type": "code",
      "execution_count": null,
      "metadata": {
        "collapsed": false
      },
      "outputs": [],
      "source": [
        "from lyceanem.electromagnetics.beamforming import Steering_Efficiency\n\nsetheta, sephi, setot = Steering_Efficiency(\n    directivity_map[:, :, 0],\n    directivity_map[:, :, 1],\n    directivity_map[:, :, 2],\n    np.radians(np.diff(el_range)[0]),\n    np.radians(np.diff(az_range)[0]),\n    4 * np.pi,\n)\n\nprint(\"Steering Effciency of {:3.1f}%\".format(setot))\n\n\nprint(\n    \"Maximum Directivity of {:3.1f} dBi\".format(\n        np.max(10 * np.log10(directivity_map[:, :, 2]))\n    )\n)"
      ]
    },
    {
      "cell_type": "code",
      "execution_count": null,
      "metadata": {
        "collapsed": false
      },
      "outputs": [],
      "source": [
        "# This is the last cell"
      ]
    }
  ],
  "metadata": {
    "kernelspec": {
      "display_name": "Python 3",
      "language": "python",
      "name": "python3"
    },
    "language_info": {
      "codemirror_mode": {
        "name": "ipython",
        "version": 3
      },
      "file_extension": ".py",
      "mimetype": "text/x-python",
      "name": "python",
      "nbconvert_exporter": "python",
      "pygments_lexer": "ipython3",
      "version": "3.8.13"
    }
  },
  "nbformat": 4,
  "nbformat_minor": 0
}