{
  "cells": [
    {
      "cell_type": "code",
      "execution_count": null,
      "metadata": {
        "collapsed": false
      },
      "outputs": [],
      "source": [
        "# This cell is added by sphinx-gallery\n# It can be customized to whatever you like\n%matplotlib inline"
      ]
    },
    {
      "cell_type": "markdown",
      "metadata": {},
      "source": [
        "\n# Modelling Different Farfield Polarisations\n\nThis example uses the frequency domain :func:`lyceanem.models.frequency_domain.calculate_farfield` function to predict\nthe farfield pattern for a linearly polarised aperture. This could represent an antenna array without any beamforming\nweights.\n"
      ]
    },
    {
      "cell_type": "code",
      "execution_count": null,
      "metadata": {
        "collapsed": false
      },
      "outputs": [],
      "source": [
        "import numpy as np\nimport open3d as o3d\nimport copy"
      ]
    },
    {
      "cell_type": "markdown",
      "metadata": {},
      "source": [
        "## Setting Farfield Resolution and Wavelength\nLyceanEM uses Elevation and Azimuth to record spherical coordinates, ranging from -180 to 180 degrees in azimuth,\nand from -90 to 90 degrees in elevation. In order to launch the aperture projection function, the resolution in\nboth azimuth and elevation is requried.\nIn order to ensure a fast example, 37 points have been used here for both, giving a total of 1369 farfield points.\n\nThe wavelength of interest is also an important variable for antenna array analysis, so we set it now for 10GHz,\nan X band aperture.\n\n"
      ]
    },
    {
      "cell_type": "code",
      "execution_count": null,
      "metadata": {
        "collapsed": false
      },
      "outputs": [],
      "source": [
        "az_res = 37\nelev_res = 37\nwavelength = 3e8 / 10e9"
      ]
    },
    {
      "cell_type": "markdown",
      "metadata": {},
      "source": [
        "## Generating consistent polarisations using point sources\n\n"
      ]
    },
    {
      "cell_type": "code",
      "execution_count": null,
      "metadata": {
        "collapsed": false
      },
      "outputs": [],
      "source": [
        "import lyceanem.geometry.targets as TL\nfrom lyceanem.base_classes import points, structures, antenna_structures\n\n# horn_body, aperture_coords = TL.meshedHorn(\n#    58e-3, 58e-3, 128e-3, 2e-3, 0.21, 0.5*wavelength\n# )\naperture_coords = o3d.geometry.PointCloud()\npoint1 = np.asarray([0.0, 0, 0]).reshape(1, 3)\nnormal1 = np.asarray([0, 0, 1.0]).reshape(1, 3)\naperture_coords.points = o3d.utility.Vector3dVector(point1)\naperture_coords.normals = o3d.utility.Vector3dVector(normal1)\naperture = points([aperture_coords])\nblockers = structures([None])\npoint_antenna = antenna_structures(blockers, aperture)"
      ]
    },
    {
      "cell_type": "markdown",
      "metadata": {},
      "source": [
        "Generate U directed electric current source\n\n\n"
      ]
    },
    {
      "cell_type": "code",
      "execution_count": null,
      "metadata": {
        "collapsed": false
      },
      "outputs": [],
      "source": [
        "desired_E_axis = np.zeros((1, 3), dtype=np.complex64)\ndesired_E_axis[0, 0] = 1.0\nu_pattern = point_antenna.calculate_farfield(desired_E_axis, wavelength)\nu_pattern.display_pattern(desired_pattern=\"Power\")"
      ]
    },
    {
      "cell_type": "markdown",
      "metadata": {},
      "source": [
        "Generate V directed electric current source\n\n\n"
      ]
    },
    {
      "cell_type": "code",
      "execution_count": null,
      "metadata": {
        "collapsed": false
      },
      "outputs": [],
      "source": [
        "desired_E_axis = np.zeros((1, 3), dtype=np.complex64)\ndesired_E_axis[0, 1] = 1.0\nv_pattern = point_antenna.calculate_farfield(desired_E_axis, wavelength)\nv_pattern.display_pattern(desired_pattern=\"Power\")"
      ]
    },
    {
      "cell_type": "markdown",
      "metadata": {},
      "source": [
        "Generate N-normal directed electric current source\n\n\n"
      ]
    },
    {
      "cell_type": "code",
      "execution_count": null,
      "metadata": {
        "collapsed": false
      },
      "outputs": [],
      "source": [
        "desired_E_axis = np.zeros((1, 3), dtype=np.complex64)\ndesired_E_axis[0, 2] = 1.0\nn_pattern = point_antenna.calculate_farfield(desired_E_axis, wavelength)\nn_pattern.display_pattern(desired_pattern=\"Power\")"
      ]
    },
    {
      "cell_type": "markdown",
      "metadata": {},
      "source": [
        "Rotate point source and calculate new patterns\n\n\n"
      ]
    },
    {
      "cell_type": "code",
      "execution_count": null,
      "metadata": {
        "collapsed": false
      },
      "outputs": [],
      "source": [
        "point_antenna.rotate_antenna(\n    o3d.geometry.get_rotation_matrix_from_axis_angle(\n        np.radians(np.asarray([0.0, 0.0, 90.0]))\n    )\n)"
      ]
    },
    {
      "cell_type": "markdown",
      "metadata": {},
      "source": [
        "Generate U directed electric current source\n\n\n"
      ]
    },
    {
      "cell_type": "code",
      "execution_count": null,
      "metadata": {
        "collapsed": false
      },
      "outputs": [],
      "source": [
        "desired_E_axis = np.zeros((1, 3), dtype=np.complex64)\ndesired_E_axis[0, 0] = 1.0\nu_pattern = point_antenna.calculate_farfield(desired_E_axis, wavelength)\nu_pattern.display_pattern(desired_pattern=\"Power\")"
      ]
    },
    {
      "cell_type": "markdown",
      "metadata": {},
      "source": [
        "Generate V directed electric current source\n\n\n"
      ]
    },
    {
      "cell_type": "code",
      "execution_count": null,
      "metadata": {
        "collapsed": false
      },
      "outputs": [],
      "source": [
        "desired_E_axis = np.zeros((1, 3), dtype=np.complex64)\ndesired_E_axis[0, 1] = 1.0\nv_pattern = point_antenna.calculate_farfield(desired_E_axis, wavelength)\nv_pattern.display_pattern(desired_pattern=\"Power\")"
      ]
    },
    {
      "cell_type": "markdown",
      "metadata": {},
      "source": [
        "Generate N-normal directed electric current source\n\n\n"
      ]
    },
    {
      "cell_type": "code",
      "execution_count": null,
      "metadata": {
        "collapsed": false
      },
      "outputs": [],
      "source": [
        "desired_E_axis = np.zeros((1, 3), dtype=np.complex64)\ndesired_E_axis[0, 2] = 1.0\nn_pattern = point_antenna.calculate_farfield(desired_E_axis, wavelength)\nn_pattern.display_pattern(desired_pattern=\"Power\")"
      ]
    },
    {
      "cell_type": "code",
      "execution_count": null,
      "metadata": {
        "collapsed": false
      },
      "outputs": [],
      "source": [
        "# This is the last cell"
      ]
    }
  ],
  "metadata": {
    "kernelspec": {
      "display_name": "Python 3",
      "language": "python",
      "name": "python3"
    },
    "language_info": {
      "codemirror_mode": {
        "name": "ipython",
        "version": 3
      },
      "file_extension": ".py",
      "mimetype": "text/x-python",
      "name": "python",
      "nbconvert_exporter": "python",
      "pygments_lexer": "ipython3",
      "version": "3.8.13"
    }
  },
  "nbformat": 4,
  "nbformat_minor": 0
}