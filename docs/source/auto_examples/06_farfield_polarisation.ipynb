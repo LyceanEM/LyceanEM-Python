{
  "cells": [
    {
      "cell_type": "code",
      "execution_count": null,
      "metadata": {
        "collapsed": false
      },
      "outputs": [],
      "source": [
        "%matplotlib inline\nfrom pyvista import set_plot_theme\nset_plot_theme('document')"
      ]
    },
    {
      "cell_type": "markdown",
      "metadata": {},
      "source": [
        "# Modelling Different Farfield Polarisations\r\n\r\nThis example uses the frequency domain\r\n`lyceanem.models.frequency_domain.calculate_farfield`{.interpreted-text\r\nrole=\"func\"} function to predict the farfield pattern for a linearly\r\npolarised aperture. This could represent an antenna array without any\r\nbeamforming weights.\r\n"
      ]
    },
    {
      "cell_type": "code",
      "execution_count": null,
      "metadata": {
        "collapsed": false
      },
      "outputs": [],
      "source": [
        "import numpy as np"
      ]
    },
    {
      "cell_type": "markdown",
      "metadata": {},
      "source": [
        "# Setting Farfield Resolution and Wavelength\r\n\r\nLyceanEM uses Elevation and Azimuth to record spherical coordinates,\r\nranging from -180 to 180 degrees in azimuth, and from -90 to 90 degrees\r\nin elevation. In order to launch the aperture projection function, the\r\nresolution in both azimuth and elevation is required. In order to ensure\r\na fast example, 37 points have been used here for both, giving a total\r\nof 1369 farfield points.\r\n\r\nThe wavelength of interest is also an important variable for antenna\r\narray analysis, so we set it now for 10GHz, an X band aperture.\r\n"
      ]
    },
    {
      "cell_type": "code",
      "execution_count": null,
      "metadata": {
        "collapsed": false
      },
      "outputs": [],
      "source": [
        "az_res = 37\nelev_res = 37\nwavelength = 3e8 / 10e9"
      ]
    },
    {
      "cell_type": "markdown",
      "metadata": {},
      "source": [
        "# Generating consistent point source to explore farfield polarisations, and rotating the source\r\n"
      ]
    },
    {
      "cell_type": "code",
      "execution_count": null,
      "metadata": {
        "collapsed": false
      },
      "outputs": [],
      "source": [
        "from lyceanem.base_classes import points,structures,antenna_structures\nimport meshio\n\nimport lyceanem.geometry.targets as TL\nimport lyceanem.geometry.geometryfunctions as GF\n\ntransmit_horn_structure, transmitting_antenna_surface_coords = TL.meshedHorn(\n    58e-3, 58e-3, 128e-3, 2e-3, 0.21, wavelength*0.5\n)\naperture=points([transmitting_antenna_surface_coords])\nblockers=structures([transmit_horn_structure])\npoint_antenna=antenna_structures(blockers, aperture)\n\n\nfrom lyceanem.models.frequency_domain import calculate_farfield"
      ]
    },
    {
      "cell_type": "markdown",
      "metadata": {},
      "source": [
        "The first source polarisation is based upon the u-vector of the source\r\npoint. When the excitation_function method of the antenna structure\r\nclass is used, it will calculate the appropriate polarisation vectors\r\nbased upon the local normal vectors.\r\n"
      ]
    },
    {
      "cell_type": "code",
      "execution_count": null,
      "metadata": {
        "collapsed": false
      },
      "outputs": [],
      "source": [
        "desired_E_axis = np.zeros((1, 3), dtype=np.complex64)\ndesired_E_axis[0, 0] = 1.0\nEtheta, Ephi = calculate_farfield(\n    point_antenna.export_all_points(),\n    point_antenna.export_all_structures(),\n    point_antenna.excitation_function(desired_e_vector=desired_E_axis),\n    az_range=np.linspace(-180, 180, az_res),\n    el_range=np.linspace(-90, 90, elev_res),\n    wavelength=wavelength,\n    farfield_distance=20,\n    elements=False,\n    project_vectors=False,\n    beta=(2*np.pi)/wavelength\n)"
      ]
    },
    {
      "cell_type": "markdown",
      "metadata": {},
      "source": [
        "# Antenna Pattern class is used to manipulate and record antenna patterns\r\n"
      ]
    },
    {
      "cell_type": "code",
      "execution_count": null,
      "metadata": {
        "collapsed": false
      },
      "outputs": [],
      "source": [
        "from lyceanem.base_classes import antenna_pattern\n\nu_pattern = antenna_pattern(\n    azimuth_resolution=az_res, elevation_resolution=elev_res\n)\nu_pattern.pattern[:, :, 0] = Etheta.reshape(elev_res,az_res)\nu_pattern.pattern[:, :, 1] = Ephi.reshape(elev_res,az_res)\nu_pattern.display_pattern(desired_pattern='Power')"
      ]
    },
    {
      "cell_type": "markdown",
      "metadata": {},
      "source": [
        "The second source polarisation is based upon the v-vector of the source\r\npoint.\r\n"
      ]
    },
    {
      "cell_type": "code",
      "execution_count": null,
      "metadata": {
        "collapsed": false
      },
      "outputs": [],
      "source": [
        "desired_E_axis = np.zeros((1, 3), dtype=np.complex64)\ndesired_E_axis[0, 1] = 1.0\nEtheta, Ephi = calculate_farfield(\n    point_antenna.export_all_points(),\n    point_antenna.export_all_structures(),\n    point_antenna.excitation_function(desired_e_vector=desired_E_axis),\n    az_range=np.linspace(-180, 180, az_res),\n    el_range=np.linspace(-90, 90, elev_res),\n    wavelength=wavelength,\n    farfield_distance=20,\n    elements=False,\n    project_vectors=False,\n    beta=(2*np.pi)/wavelength\n)\n\n\nv_pattern = antenna_pattern(\n    azimuth_resolution=az_res, elevation_resolution=elev_res\n)\nv_pattern.pattern[:, :, 0] = Etheta.reshape(elev_res,az_res)\nv_pattern.pattern[:, :, 1] = Ephi.reshape(elev_res,az_res)\nv_pattern.display_pattern(desired_pattern='Power')"
      ]
    },
    {
      "cell_type": "markdown",
      "metadata": {},
      "source": [
        "The third source polarisation is based upon the n-vector of the source\r\npoint. Aligned with the source point normal.\r\n"
      ]
    },
    {
      "cell_type": "code",
      "execution_count": null,
      "metadata": {
        "collapsed": false
      },
      "outputs": [],
      "source": [
        "desired_E_axis = np.zeros((1, 3), dtype=np.complex64)\ndesired_E_axis[0, 2] = 1.0\nEtheta, Ephi = calculate_farfield(\n    point_antenna.export_all_points(),\n    point_antenna.export_all_structures(),\n    point_antenna.excitation_function(desired_e_vector=desired_E_axis),\n    az_range=np.linspace(-180, 180, az_res),\n    el_range=np.linspace(-90, 90, elev_res),\n    wavelength=wavelength,\n    farfield_distance=20,\n    elements=False,\n    project_vectors=False,\n    beta=(2*np.pi)/wavelength\n)\n\nn_pattern = antenna_pattern(\n    azimuth_resolution=az_res, elevation_resolution=elev_res\n)\nn_pattern.pattern[:, :, 0] = Etheta.reshape(elev_res,az_res)\nn_pattern.pattern[:, :, 1] = Ephi.reshape(elev_res,az_res)\nn_pattern.display_pattern(desired_pattern='Power')"
      ]
    },
    {
      "cell_type": "markdown",
      "metadata": {},
      "source": [
        "The point source can then be rotated, by providing a rotation matrix,\r\nand the u,v,n directions are moved with it in a consistent way.\r\n"
      ]
    },
    {
      "cell_type": "code",
      "execution_count": null,
      "metadata": {
        "collapsed": false
      },
      "outputs": [],
      "source": [
        "from scipy.spatial.transform import Rotation as R\n\nr=R.from_euler('xyz', np.radians(np.asarray([90.0,0.0,0.0])))\npoint_antenna.rotate_antenna(r.as_matrix())\n\ndesired_E_axis = np.zeros((1, 3), dtype=np.complex64)\ndesired_E_axis[0, 0] = 1.0\nEtheta, Ephi = calculate_farfield(\n    point_antenna.export_all_points(),\n    point_antenna.export_all_structures(),\n    point_antenna.excitation_function(desired_e_vector=desired_E_axis),\n    az_range=np.linspace(-180, 180, az_res),\n    el_range=np.linspace(-90, 90, elev_res),\n    wavelength=wavelength,\n    farfield_distance=20,\n    elements=False,\n    project_vectors=False,\n    beta=(2*np.pi)/wavelength\n)\nu_pattern.pattern[:, :, 0] = Etheta.reshape(elev_res,az_res)\nu_pattern.pattern[:, :, 1] = Ephi.reshape(elev_res,az_res)\nu_pattern.display_pattern(desired_pattern='Power')\n\n\ndesired_E_axis = np.zeros((1, 3), dtype=np.complex64)\ndesired_E_axis[0, 1] = 1.0\nEtheta, Ephi = calculate_farfield(\n    point_antenna.export_all_points(),\n    point_antenna.export_all_structures(),\n    point_antenna.excitation_function(desired_e_vector=desired_E_axis),\n    az_range=np.linspace(-180, 180, az_res),\n    el_range=np.linspace(-90, 90, elev_res),\n    wavelength=wavelength,\n    farfield_distance=20,\n    elements=False,\n    project_vectors=False,\n    beta=(2*np.pi)/wavelength\n)\nv_pattern.pattern[:, :, 0] = Etheta.reshape(elev_res,az_res)\nv_pattern.pattern[:, :, 1] = Ephi.reshape(elev_res,az_res)\nv_pattern.display_pattern(desired_pattern='Power')\n\n\ndesired_E_axis = np.zeros((1, 3), dtype=np.complex64)\ndesired_E_axis[0, 2] = 1.0\nEtheta, Ephi = calculate_farfield(\n    point_antenna.export_all_points(),\n    point_antenna.export_all_structures(),\n    point_antenna.excitation_function(desired_e_vector=desired_E_axis),\n    az_range=np.linspace(-180, 180, az_res),\n    el_range=np.linspace(-90, 90, elev_res),\n    wavelength=wavelength,\n    farfield_distance=20,\n    elements=False,\n    project_vectors=False,\n    beta=(2*np.pi)/wavelength\n)\nn_pattern.pattern[:, :, 0] = Etheta.reshape(elev_res,az_res)\nn_pattern.pattern[:, :, 1] = Ephi.reshape(elev_res,az_res)\nn_pattern.display_pattern(desired_pattern='Power')"
      ]
    }
  ],
  "metadata": {
    "kernelspec": {
      "display_name": "Python 3",
      "language": "python",
      "name": "python3"
    },
    "language_info": {
      "codemirror_mode": {
        "name": "ipython",
        "version": 3
      },
      "file_extension": ".py",
      "mimetype": "text/x-python",
      "name": "python",
      "nbconvert_exporter": "python",
      "pygments_lexer": "ipython3",
      "version": "3.12.10"
    }
  },
  "nbformat": 4,
  "nbformat_minor": 0
}