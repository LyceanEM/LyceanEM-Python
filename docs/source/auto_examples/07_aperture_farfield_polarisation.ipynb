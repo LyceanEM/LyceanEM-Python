{
  "cells": [
    {
      "cell_type": "code",
      "execution_count": null,
      "metadata": {
        "collapsed": false
      },
      "outputs": [],
      "source": [
        "# This cell is added by sphinx-gallery\n# It can be customized to whatever you like\n%matplotlib inline"
      ]
    },
    {
      "cell_type": "markdown",
      "metadata": {},
      "source": [
        "\n# Modelling a Coherently Polarised Aperture using the Antenna Structure Class\n\nThis example uses the frequency domain :func:`lyceanem.models.frequency_domain.calculate_farfield` function to predict\nthe farfield pattern for a linearly polarised aperture. This could represent an antenna array without any beamforming\nweights. This example differs from 02 by using the antenna structure class as a container for both the antenna points and structure, and also by calling the calculate farfield function using the class.\n"
      ]
    },
    {
      "cell_type": "code",
      "execution_count": null,
      "metadata": {
        "collapsed": false
      },
      "outputs": [],
      "source": [
        "import numpy as np\nimport open3d as o3d\nimport copy"
      ]
    },
    {
      "cell_type": "markdown",
      "metadata": {},
      "source": [
        "## Setting Farfield Resolution and Wavelength\nLyceanEM uses Elevation and Azimuth to record spherical coordinates, ranging from -180 to 180 degrees in azimuth,\nand from -90 to 90 degrees in elevation. In order to launch the aperture projection function, the resolution in\nboth azimuth and elevation is requried.\nIn order to ensure a fast example, 37 points have been used here for both, giving a total of 1369 farfield points.\n\nThe wavelength of interest is also an important variable for antenna array analysis, so we set it now for 10GHz,\nan X band aperture.\n\n"
      ]
    },
    {
      "cell_type": "code",
      "execution_count": null,
      "metadata": {
        "collapsed": false
      },
      "outputs": [],
      "source": [
        "az_res = 181\nelev_res = 181\nwavelength = 3e8 / 10e9"
      ]
    },
    {
      "cell_type": "markdown",
      "metadata": {},
      "source": [
        "## Generating consistent Horn Antenna and\n\n"
      ]
    },
    {
      "cell_type": "code",
      "execution_count": null,
      "metadata": {
        "collapsed": false
      },
      "outputs": [],
      "source": [
        "import lyceanem.geometry.targets as TL\nfrom lyceanem.base_classes import points, structures, antenna_structures\n\nhorn_body, aperture_coords = TL.meshedHorn(\n    58e-3, 58e-3, 128e-3, 2e-3, 0.21, 0.5 * wavelength\n)\n\naperture = points([aperture_coords])\nblockers = structures([horn_body])\nhorn_antenna = antenna_structures(blockers, aperture)\n\nhorn_antenna.visualise_antenna()"
      ]
    },
    {
      "cell_type": "markdown",
      "metadata": {},
      "source": [
        "Generate U directed electric current source\n\n\n"
      ]
    },
    {
      "cell_type": "code",
      "execution_count": null,
      "metadata": {
        "collapsed": false
      },
      "outputs": [],
      "source": [
        "desired_E_axis = np.zeros((1, 3), dtype=np.complex64)\ndesired_E_axis[0, 0] = 1.0\nu_pattern = horn_antenna.calculate_farfield(desired_E_axis, wavelength)\nu_pattern.display_pattern()\nu_pattern.display_pattern(desired_pattern=\"Power\")"
      ]
    },
    {
      "cell_type": "markdown",
      "metadata": {},
      "source": [
        "Generate V directed electric current source\n\n\n"
      ]
    },
    {
      "cell_type": "code",
      "execution_count": null,
      "metadata": {
        "collapsed": false
      },
      "outputs": [],
      "source": [
        "desired_E_axis = np.zeros((1, 3), dtype=np.complex64)\ndesired_E_axis[0, 1] = 1.0\nv_pattern = horn_antenna.calculate_farfield(desired_E_axis, wavelength)\nv_pattern.display_pattern(desired_pattern=\"Power\")"
      ]
    },
    {
      "cell_type": "markdown",
      "metadata": {},
      "source": [
        "Generate N-normal directed electric current source\n\n\n"
      ]
    },
    {
      "cell_type": "code",
      "execution_count": null,
      "metadata": {
        "collapsed": false
      },
      "outputs": [],
      "source": [
        "desired_E_axis = np.zeros((1, 3), dtype=np.complex64)\ndesired_E_axis[0, 2] = 1.0\nn_pattern = horn_antenna.calculate_farfield(desired_E_axis, wavelength)\nn_pattern.display_pattern(desired_pattern=\"Power\")"
      ]
    },
    {
      "cell_type": "markdown",
      "metadata": {},
      "source": [
        "Rotate point source and calculate new patterns. The important thing to understand here is that the polarisation is consitent with both the farfield and global axes, and the local antenna orientation, so that if you rotate the antenna and generate the pattern it is consistent with the way the polarisation would change if you rotated a physical antenna in this way. This has been written this way to make modelling antennas and antenna arrays on moving platforms easier, so the local axes and motion relative to the global reference frame can be accounted for in a consistent manner.\n\n\n"
      ]
    },
    {
      "cell_type": "code",
      "execution_count": null,
      "metadata": {
        "collapsed": false
      },
      "outputs": [],
      "source": [
        "horn_antenna.rotate_antenna(\n    o3d.geometry.get_rotation_matrix_from_axis_angle(\n        np.radians(np.asarray([0.0, 45.0, 0.0]))\n    )\n)\nhorn_antenna.visualise_antenna()"
      ]
    },
    {
      "cell_type": "markdown",
      "metadata": {},
      "source": [
        "Generate U directed electric current source\n\n\n"
      ]
    },
    {
      "cell_type": "code",
      "execution_count": null,
      "metadata": {
        "collapsed": false
      },
      "outputs": [],
      "source": [
        "desired_E_axis = np.zeros((1, 3), dtype=np.complex64)\ndesired_E_axis[0, 0] = 1.0\nu_pattern = horn_antenna.calculate_farfield(desired_E_axis, wavelength)\nu_pattern.display_pattern()\nu_pattern.display_pattern(desired_pattern=\"Power\")"
      ]
    },
    {
      "cell_type": "markdown",
      "metadata": {},
      "source": [
        "Generate V directed electric current source\n\n\n"
      ]
    },
    {
      "cell_type": "code",
      "execution_count": null,
      "metadata": {
        "collapsed": false
      },
      "outputs": [],
      "source": [
        "desired_E_axis = np.zeros((1, 3), dtype=np.complex64)\ndesired_E_axis[0, 1] = 1.0\nv_pattern = horn_antenna.calculate_farfield(desired_E_axis, wavelength)\nv_pattern.display_pattern(desired_pattern=\"Power\")"
      ]
    },
    {
      "cell_type": "markdown",
      "metadata": {},
      "source": [
        "Generate N-normal directed electric current source\n\n\n"
      ]
    },
    {
      "cell_type": "code",
      "execution_count": null,
      "metadata": {
        "collapsed": false
      },
      "outputs": [],
      "source": [
        "desired_E_axis = np.zeros((1, 3), dtype=np.complex64)\ndesired_E_axis[0, 2] = 1.0\nn_pattern = horn_antenna.calculate_farfield(desired_E_axis, wavelength)\nn_pattern.display_pattern(desired_pattern=\"Power\")"
      ]
    },
    {
      "cell_type": "code",
      "execution_count": null,
      "metadata": {
        "collapsed": false
      },
      "outputs": [],
      "source": [
        "# This is the last cell"
      ]
    }
  ],
  "metadata": {
    "kernelspec": {
      "display_name": "Python 3",
      "language": "python",
      "name": "python3"
    },
    "language_info": {
      "codemirror_mode": {
        "name": "ipython",
        "version": 3
      },
      "file_extension": ".py",
      "mimetype": "text/x-python",
      "name": "python",
      "nbconvert_exporter": "python",
      "pygments_lexer": "ipython3",
      "version": "3.8.13"
    }
  },
  "nbformat": 4,
  "nbformat_minor": 0
}