{
  "cells": [
    {
      "cell_type": "code",
      "execution_count": null,
      "metadata": {
        "collapsed": false
      },
      "outputs": [],
      "source": [
        "# This cell is added by sphinx-gallery\n# It can be customized to whatever you like\n%matplotlib inline"
      ]
    },
    {
      "cell_type": "markdown",
      "metadata": {},
      "source": [
        "\n# Modelling Different Farfield Polarisations for an Aperture\n\nThis example uses the frequency domain :func:`lyceanem.models.frequency_domain.calculate_farfield` function to predict\nthe farfield pattern for a linearly polarised aperture. This could represent an antenna array without any beamforming\nweights.\n"
      ]
    },
    {
      "cell_type": "code",
      "execution_count": null,
      "metadata": {
        "collapsed": false
      },
      "outputs": [],
      "source": [
        "import numpy as np\nimport open3d as o3d\nimport copy"
      ]
    },
    {
      "cell_type": "markdown",
      "metadata": {},
      "source": [
        "## Setting Farfield Resolution and Wavelength\nLyceanEM uses Elevation and Azimuth to record spherical coordinates, ranging from -180 to 180 degrees in azimuth,\nand from -90 to 90 degrees in elevation. In order to launch the aperture projection function, the resolution in\nboth azimuth and elevation is requried.\nIn order to ensure a fast example, 37 points have been used here for both, giving a total of 1369 farfield points.\n\nThe wavelength of interest is also an important variable for antenna array analysis, so we set it now for 10GHz,\nan X band aperture.\n\n"
      ]
    },
    {
      "cell_type": "code",
      "execution_count": null,
      "metadata": {
        "collapsed": false
      },
      "outputs": [],
      "source": [
        "az_res = 37\nelev_res = 37\nwavelength = 3e8 / 10e9"
      ]
    },
    {
      "cell_type": "markdown",
      "metadata": {},
      "source": [
        "## Generating consistent aperture to explore farfield polarisations, and rotating the source\n\n"
      ]
    },
    {
      "cell_type": "code",
      "execution_count": null,
      "metadata": {
        "collapsed": false
      },
      "outputs": [],
      "source": [
        "from lyceanem.base_classes import points,structures,antenna_structures\n\nfrom lyceanem.geometry.targets import meshedHorn\nstructure,array_points=meshedHorn(3*wavelength, 1*wavelength, 4*wavelength, 0.05*wavelength,np.radians(10),wavelength*0.5)\n\nhorn_antenna=antenna_structures(structures(solids=[structure]), points(points=[array_points]))\n\n\nfrom lyceanem.models.frequency_domain import calculate_farfield"
      ]
    },
    {
      "cell_type": "markdown",
      "metadata": {},
      "source": [
        "The first source polarisation is based upon the u-vector of the source point. When the excitation_function method of the antenna structure class is used, it will calculate the appropriate polarisation vectors based upon the local normal vectors.\n\n"
      ]
    },
    {
      "cell_type": "code",
      "execution_count": null,
      "metadata": {
        "collapsed": false
      },
      "outputs": [],
      "source": [
        "desired_E_axis = np.zeros((1, 3), dtype=np.complex64)\ndesired_E_axis[0, 0] = 1.0\nEtheta, Ephi = calculate_farfield(\n    horn_antenna.export_all_points(),\n    horn_antenna,\n    horn_antenna.excitation_function(desired_e_vector=desired_E_axis),\n    az_range=np.linspace(-180, 180, az_res),\n    el_range=np.linspace(-90, 90, elev_res),\n    wavelength=wavelength,\n    farfield_distance=20,\n    elements=False,\n    project_vectors=False,\n)"
      ]
    },
    {
      "cell_type": "markdown",
      "metadata": {},
      "source": [
        "## Antenna Pattern class is used to manipulate and record antenna patterns\n\n"
      ]
    },
    {
      "cell_type": "code",
      "execution_count": null,
      "metadata": {
        "collapsed": false
      },
      "outputs": [],
      "source": [
        "from lyceanem.base_classes import antenna_pattern\n\nu_pattern = antenna_pattern(\n    azimuth_resolution=az_res, elevation_resolution=elev_res\n)\nu_pattern.pattern[:, :, 0] = Etheta\nu_pattern.pattern[:, :, 1] = Ephi\nu_pattern.display_pattern(desired_pattern='Power')"
      ]
    },
    {
      "cell_type": "markdown",
      "metadata": {},
      "source": [
        "The second source polarisation is based upon the v-vector of the source point.\n\n"
      ]
    },
    {
      "cell_type": "code",
      "execution_count": null,
      "metadata": {
        "collapsed": false
      },
      "outputs": [],
      "source": [
        "desired_E_axis = np.zeros((1, 3), dtype=np.complex64)\ndesired_E_axis[0, 1] = 1.0\nEtheta, Ephi = calculate_farfield(\n    horn_antenna.export_all_points(),\n    horn_antenna,\n    horn_antenna.excitation_function(desired_e_vector=desired_E_axis),\n    az_range=np.linspace(-180, 180, az_res),\n    el_range=np.linspace(-90, 90, elev_res),\n    wavelength=wavelength,\n    farfield_distance=20,\n    elements=False,\n    project_vectors=False,\n)\n\n\nv_pattern = antenna_pattern(\n    azimuth_resolution=az_res, elevation_resolution=elev_res\n)\nv_pattern.pattern[:, :, 0] = Etheta\nv_pattern.pattern[:, :, 1] = Ephi\nv_pattern.display_pattern(desired_pattern='Power')"
      ]
    },
    {
      "cell_type": "markdown",
      "metadata": {},
      "source": [
        "The third source polarisation is based upon the n-vector of the source point. Aligned with the source point normal.\n\n"
      ]
    },
    {
      "cell_type": "code",
      "execution_count": null,
      "metadata": {
        "collapsed": false
      },
      "outputs": [],
      "source": [
        "desired_E_axis = np.zeros((1, 3), dtype=np.complex64)\ndesired_E_axis[0, 2] = 1.0\nEtheta, Ephi = calculate_farfield(\n    horn_antenna.export_all_points(),\n    horn_antenna,\n    horn_antenna.excitation_function(desired_e_vector=desired_E_axis),\n    az_range=np.linspace(-180, 180, az_res),\n    el_range=np.linspace(-90, 90, elev_res),\n    wavelength=wavelength,\n    farfield_distance=20,\n    elements=False,\n    project_vectors=False,\n)\n\nn_pattern = antenna_pattern(\n    azimuth_resolution=az_res, elevation_resolution=elev_res\n)\nn_pattern.pattern[:, :, 0] = Etheta\nn_pattern.pattern[:, :, 1] = Ephi\nn_pattern.display_pattern(desired_pattern='Power')"
      ]
    },
    {
      "cell_type": "markdown",
      "metadata": {},
      "source": [
        "The point source can then be rotated, by providing a rotation matrix, and the u,v,n directions are moved with it in a consistent way.\n\n"
      ]
    },
    {
      "cell_type": "code",
      "execution_count": null,
      "metadata": {
        "collapsed": false
      },
      "outputs": [],
      "source": [
        "horn_antenna.rotate_antenna(o3d.geometry.get_rotation_matrix_from_axis_angle(np.radians(np.asarray([45.0,0.0,0.0]))))\n\ndesired_E_axis = np.zeros((1, 3), dtype=np.complex64)\ndesired_E_axis[0, 0] = 1.0\nEtheta, Ephi = calculate_farfield(\n    horn_antenna.export_all_points(),\n    horn_antenna,\n    horn_antenna.excitation_function(desired_e_vector=desired_E_axis),\n    az_range=np.linspace(-180, 180, az_res),\n    el_range=np.linspace(-90, 90, elev_res),\n    wavelength=wavelength,\n    farfield_distance=20,\n    elements=False,\n    project_vectors=False,\n)\nu_pattern.pattern[:, :, 0] = Etheta\nu_pattern.pattern[:, :, 1] = Ephi\nu_pattern.display_pattern(desired_pattern='Power')\n\n\ndesired_E_axis = np.zeros((1, 3), dtype=np.complex64)\ndesired_E_axis[0, 1] = 1.0\nEtheta, Ephi = calculate_farfield(\n    horn_antenna.export_all_points(),\n    horn_antenna,\n    horn_antenna.excitation_function(desired_e_vector=desired_E_axis),\n    az_range=np.linspace(-180, 180, az_res),\n    el_range=np.linspace(-90, 90, elev_res),\n    wavelength=wavelength,\n    farfield_distance=20,\n    elements=False,\n    project_vectors=False,\n)\nv_pattern.pattern[:, :, 0] = Etheta\nv_pattern.pattern[:, :, 1] = Ephi\nv_pattern.display_pattern(desired_pattern='Power')\n\n\ndesired_E_axis = np.zeros((1, 3), dtype=np.complex64)\ndesired_E_axis[0, 2] = 1.0\nEtheta, Ephi = calculate_farfield(\n    horn_antenna.export_all_points(),\n    horn_antenna,\n    horn_antenna.excitation_function(desired_e_vector=desired_E_axis),\n    az_range=np.linspace(-180, 180, az_res),\n    el_range=np.linspace(-90, 90, elev_res),\n    wavelength=wavelength,\n    farfield_distance=20,\n    elements=False,\n    project_vectors=False,\n)\nn_pattern.pattern[:, :, 0] = Etheta\nn_pattern.pattern[:, :, 1] = Ephi\nn_pattern.display_pattern(desired_pattern='Power')"
      ]
    },
    {
      "cell_type": "code",
      "execution_count": null,
      "metadata": {
        "collapsed": false
      },
      "outputs": [],
      "source": [
        "# This is the last cell"
      ]
    }
  ],
  "metadata": {
    "kernelspec": {
      "display_name": "Python 3",
      "language": "python",
      "name": "python3"
    },
    "language_info": {
      "codemirror_mode": {
        "name": "ipython",
        "version": 3
      },
      "file_extension": ".py",
      "mimetype": "text/x-python",
      "name": "python",
      "nbconvert_exporter": "python",
      "pygments_lexer": "ipython3",
      "version": "3.10.8"
    }
  },
  "nbformat": 4,
  "nbformat_minor": 0
}