{
  "cells": [
    {
      "cell_type": "code",
      "execution_count": null,
      "metadata": {
        "collapsed": false
      },
      "outputs": [],
      "source": [
        "%matplotlib inline\nfrom pyvista import set_plot_theme\nset_plot_theme('document')"
      ]
    },
    {
      "cell_type": "markdown",
      "metadata": {},
      "source": [
        "# Antenna Array Validation\r\n\r\nThis example uses some custom functions to import antenna array\r\nmeasurements from a 32 element antenna array panel, and simulate the\r\nsame antenna array within LyceanEM. Some basic functions are included to\r\nimport the hdf5 file, and demostrate a suitable method for generating an\r\nequivalent model antenna array using gmsh.\r\n\r\nThe measurement file can be found at\r\n<https://osf.io/64yaj/files/osfstorage/6867f249514c2235de49f20e> , and\r\nshould be placed in the same folder as this script.\r\n"
      ]
    },
    {
      "cell_type": "code",
      "execution_count": null,
      "metadata": {
        "collapsed": false
      },
      "outputs": [],
      "source": [
        "import pyvista as pv\nimport meshio\nimport numpy as np\nfrom scipy.constants import speed_of_light\n\n\ndef Beamform(Antennas, weights):\n    \"\"\"\n    Assuming all the sample fields in the Antennas list are the same points with only the element differing, the weights array will be used to calculate a resultant array pattern,\n\n    \"\"\"\n    field_shape = Antennas[0].point_data[\"Ex-Real\"].shape\n    beamformed_map = np.zeros((field_shape[0], 3), dtype=np.complex64)\n\n    for element in range(len(Antennas)):\n        beamformed_map[:, 0] += (\n            (\n                Antennas[element].point_data[\"Ex-Real\"]\n                + 1j * Antennas[element].point_data[\"Ex-Imag\"]\n            )\n            * weights[element].reshape(1, -1)\n        ).ravel()\n        beamformed_map[:, 1] += (\n            (\n                Antennas[element].point_data[\"Ey-Real\"]\n                + 1j * Antennas[element].point_data[\"Ey-Imag\"]\n            )\n            * weights[element].reshape(1, -1)\n        ).ravel()\n        beamformed_map[:, 2] += (\n            (\n                Antennas[element].point_data[\"Ez-Real\"]\n                + 1j * Antennas[element].point_data[\"Ez-Imag\"]\n            )\n            * weights[element].reshape(1, -1)\n        ).ravel()\n\n    beamformed_pattern = meshio.Mesh(\n        points=Antennas[0].points,\n        cells=[(\"triangle\", Antennas[0].cells[0].data)],\n        point_data={\n            \"Normals\": Antennas[0].point_data[\"Normals\"],\n            \"Ex-Real\": np.real(beamformed_map[:, 0]),\n            \"Ex-Imag\": np.imag(beamformed_map[:, 0]),\n            \"Ey-Real\": np.real(beamformed_map[:, 1]),\n            \"Ey-Imag\": np.imag(beamformed_map[:, 1]),\n            \"Ez-Real\": np.real(beamformed_map[:, 2]),\n            \"Ez-Imag\": np.imag(beamformed_map[:, 2]),\n        },\n    )\n\n    return beamformed_pattern\n\n\ndef Panel_Array_data():\n    from pathlib import Path\n    from lyceanem.geometry.geometryfunctions import compute_areas, compute_normals\n    from lyceanem.electromagnetics.emfunctions import update_electric_fields\n\n    dataset_location = Path(\"Panel_Array_Measurements.hdf5\")\n    import h5py\n\n    with h5py.File(dataset_location, \"r\") as f1:\n        # print(f1.name)\n        # print(f1['Fields'].keys())\n        antennas = []\n        for field_inc in range(f1[\"Metadata\"][\"Element Positions\"][:].shape[0]):\n            pattern_keys = \"Element {}\".format(field_inc)\n            temp_mesh = meshio.Mesh(\n                points=f1[\"Sample Positions\"][\"Field Positions\"][:, :],\n                cells=[(\"triangle\", f1[\"Sample Positions\"][\"Triangles\"][:, :])],\n            )\n            temp_exeyez = f1[\"Fields\"][pattern_keys][:, 2:]\n            temp_mesh = update_electric_fields(\n                temp_mesh, temp_exeyez[:, 0], temp_exeyez[:, 1], temp_exeyez[:, 2]\n            )\n\n            antennas.append(temp_mesh)\n\n        frequency = f1[\"Metadata\"][\"Frequency (Hz)\"][()]\n        element_positions = f1[\"Metadata\"][\"Element Positions\"][:, :]\n\n    from lyceanem.electromagnetics.emfunctions import (\n        PoyntingVector,\n        Directivity,\n        field_magnitude_phase,\n    )\n\n    new_list = []\n    for pattern in antennas:\n        pattern = compute_areas(pattern)\n        pattern.point_data[\"Normals\"] = (\n            pattern.points - np.mean(pattern.points, axis=0)\n        ) / np.linalg.norm(\n            (pattern.points - np.mean(pattern.points, axis=0)), axis=1\n        ).reshape(\n            -1, 1\n        )\n        pattern = PoyntingVector(pattern)\n        pattern = Directivity(pattern)\n        pattern = field_magnitude_phase(pattern)\n        new_list.append(pattern)\n\n    return new_list, element_positions, frequency\n\n\ndef Array_Panel(mesh_size):\n    from lyceanem.utility.mesh_functions import pyvista_to_meshio\n\n    major_size = 345.5e-3\n    minor_size = 170.5e-3\n    element_sep = 43e-3\n    element_point_major = 301e-3\n    element_point_minor = 129e-3\n    columns = 8\n    rows = 4\n    element_area = element_sep**2\n    x, y, z = np.meshgrid(\n        np.linspace(-element_point_major / 2, element_point_major / 2, columns),\n        np.linspace(-element_point_minor / 2, element_point_minor / 2, rows),\n        1e-6,\n    )\n    element_points = np.array([x.ravel(), y.ravel(), z.ravel()]).transpose()\n    element_mesh = pv.PolyData(np.array([x.ravel(), y.ravel(), z.ravel()]).transpose())\n    element_mesh.point_data[\"Area\"] = (\n        np.ones((element_mesh.points.shape[0])) * element_area\n    )\n    element_mesh.point_data[\"Normals\"] = np.repeat(\n        np.array([0, 0, 1]).reshape(1, 3), element_mesh.points.shape[0], axis=0\n    )\n    from lyceanem.geometry.geometryfunctions import compute_areas, compute_normals\n    import gmsh\n\n    gmsh.initialize()\n    gmsh.option.setNumber(\"Mesh.CharacteristicLengthMax\", mesh_size)\n    box = gmsh.model.occ.addBox(\n        -major_size / 2, -minor_size / 2, -5e-3, major_size, minor_size, 5e-3\n    )\n    gmsh.model.occ.synchronize()\n    gmsh.model.mesh.generate(dim=2)\n    file_name = \"temp_mesh.stl\"\n    gmsh.write(file_name)\n    gmsh.finalize()\n    panel_mesh = compute_normals(compute_areas(meshio.read(file_name)))\n    return element_mesh, panel_mesh"
      ]
    },
    {
      "cell_type": "markdown",
      "metadata": {},
      "source": [
        "# Importing measured Validation Data\r\n\r\nThe function Panel_Array_data imports the measured validation data for\r\nthe Panel antenna array, including sample positions within the\r\nUniversity of Bristol Anechoic chamber, and the measured antenna\r\npatterns for each element in the array. This is then used to define the\r\nwavelength of operation, and set the desired maximum mesh length for the\r\nmodel antenna array. The function Array_Panel is defined in such a way\r\nthat the elements are generated with the correct ordering for the\r\nantenna array as it was measured and recorded in the chamber and\r\nvalidation data.\r\n"
      ]
    },
    {
      "cell_type": "code",
      "execution_count": null,
      "metadata": {
        "collapsed": false
      },
      "outputs": [],
      "source": [
        "antennas, element_positions, frequency = Panel_Array_data()\nwavelength = speed_of_light / frequency\nelements, panel = Array_Panel(wavelength * 0.5)"
      ]
    },
    {
      "cell_type": "markdown",
      "metadata": {},
      "source": [
        "# Visualisation of the Modelled Array\r\n\r\nOnce the antenna array has been generated for simulation, it can then be\r\nvisualised within the model space, and a rendering exported.\r\n"
      ]
    },
    {
      "cell_type": "code",
      "execution_count": null,
      "metadata": {
        "collapsed": false
      },
      "outputs": [],
      "source": [
        "pl = pv.Plotter()\npl.add_mesh(elements)\npl.add_mesh(pv.from_meshio(panel), show_edges=True)\npl.add_axes()\npl.show(screenshot=\"ArrayasSimulated.png\")"
      ]
    },
    {
      "cell_type": "markdown",
      "metadata": {},
      "source": [
        "# Definition of the sample field and simulation\r\n\r\nIn order to make comparisons straightforward, the sample field positions\r\nare copied from the measured data while removing the actual field data\r\nitself. The excitation_function is called to allow the definition of\r\nelectric field vectors for each antenna with the same polarization as\r\nproduced by the patch antennas of the validation antenna array.\r\n"
      ]
    },
    {
      "cell_type": "code",
      "execution_count": null,
      "metadata": {
        "collapsed": false
      },
      "outputs": [],
      "source": [
        "import lyceanem.models.frequency_domain as FD\nfrom lyceanem.electromagnetics.emfunctions import excitation_function\n\ndesired_e_vector = np.array([1.0, 0.0, 0])\nweights = excitation_function(\n    elements,\n    desired_e_vector,\n    wavelength=wavelength,\n    phase_shift=\"wavefront\",\n    steering_vector=np.array([0, 0, 1]),\n)\n\n\nsample_field = antennas[0].copy()\nsample_field.point_data.clear()\nsample_field.point_data[\"Normals\"] = antennas[0].point_data[\"Normals\"]\n\nfrom lyceanem.base_classes import structures\n\nblockers = structures(solids=[panel])\nEx, Ey, Ez = FD.calculate_scattering(\n    aperture_coords=elements,\n    sink_coords=sample_field,\n    scatter_points=panel,\n    antenna_solid=blockers,\n    desired_E_axis=weights,\n    wavelength=wavelength,\n    scattering=0,\n    project_vectors=False,\n    beta=(2 * np.pi) / wavelength,\n)"
      ]
    },
    {
      "cell_type": "markdown",
      "metadata": {},
      "source": [
        "# Processing of the Modelled results\r\n\r\nThe function update_electric_fields is used to populate the sample field\r\nwith the simulated farfield pattern of the antenna array with the\r\ncalculated weights. A wide variety of different quantities can then be\r\ncalculated to allow consistent analysis of the measured and simulated\r\nantenna patterns.\r\n"
      ]
    },
    {
      "cell_type": "code",
      "execution_count": null,
      "metadata": {
        "collapsed": false
      },
      "outputs": [],
      "source": [
        "from lyceanem.electromagnetics.emfunctions import (\n    update_electric_fields,\n    PoyntingVector,\n    Directivity,\n    Exyz_to_EthetaEphi,\n    field_magnitude_phase,\n)\nfrom lyceanem.electromagnetics.beamforming import create_display_mesh\n\nmeasured_array_pattern = field_magnitude_phase(\n    Directivity(PoyntingVector(Beamform(antennas, weights[:, 1])))\n)\ndynamic_range = 60\nsample_field = field_magnitude_phase(\n    Directivity(PoyntingVector(update_electric_fields(sample_field, Ex, Ey, Ez)))\n)\ndisplay = create_display_mesh(\n    sample_field, label=\"D(Total)\", field_radius=1.0, dynamic_range=dynamic_range\n)\ndisplay.point_data[\"D(Total)_(dBi)\"] = 10 * np.log10(display.point_data[\"D(Total)\"])\nmeasured_display = create_display_mesh(\n    measured_array_pattern,\n    label=\"D(Total)\",\n    field_radius=1.0,\n    dynamic_range=dynamic_range,\n)\nmeasured_display.point_data[\"D(Total)_(dBi)\"] = 10 * np.log10(\n    measured_display.point_data[\"D(Total)\"]\n)\n\nprint(\"Maximum Directivity \", np.max(display.point_data[\"D(Total)_(dBi)\"]))\nprint(\n    \"Measured Maximum Directivity \",\n    np.max(measured_display.point_data[\"D(Total)_(dBi)\"]),\n)\n\npl = pv.Plotter(shape=(1, 2), border=False)\npl.subplot(0, 0)\npl.add_mesh(elements, color=\"aqua\")\npl.add_mesh(panel, color=\"grey\")\npl.add_mesh(display, scalars=\"D(Total)_(dBi)\", clim=[22 - dynamic_range, 22])\npl.add_axes()\npl.add_title(\"LyceanEM\")\npl.subplot(0, 1)\npl.add_mesh(elements, color=\"aqua\")\npl.add_mesh(panel, color=\"grey\")\npl.add_mesh(measured_display, scalars=\"D(Total)_(dBi)\", clim=[22 - dynamic_range, 22])\npl.add_title(\"Measured\")\npl.link_views()\npl.view_isometric()\npl.show(screenshot=\"MeasurementtoSimulationComparison.png\")\n\n\nsimulated = display.point_data[\"D(Total)\"]\nmeasured = measured_display.point_data[\"D(Total)\"]\nprint(\n    \"Correlation {}\".format(np.corrcoef(simulated, measured)[0, 1]),\n    \" between measurement and simulation\",\n)"
      ]
    }
  ],
  "metadata": {
    "kernelspec": {
      "display_name": "Python 3",
      "language": "python",
      "name": "python3"
    },
    "language_info": {
      "codemirror_mode": {
        "name": "ipython",
        "version": 3
      },
      "file_extension": ".py",
      "mimetype": "text/x-python",
      "name": "python",
      "nbconvert_exporter": "python",
      "pygments_lexer": "ipython3",
      "version": "3.12.10"
    }
  },
  "nbformat": 4,
  "nbformat_minor": 0
}