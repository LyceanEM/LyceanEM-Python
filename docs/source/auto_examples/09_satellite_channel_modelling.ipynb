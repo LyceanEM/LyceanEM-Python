{
  "cells": [
    {
      "cell_type": "code",
      "execution_count": null,
      "metadata": {
        "collapsed": false
      },
      "outputs": [],
      "source": [
        "# This cell is added by sphinx-gallery\n# It can be customized to whatever you like\n%matplotlib inline"
      ]
    },
    {
      "cell_type": "markdown",
      "metadata": {},
      "source": [
        "\n# Satellite Channel Modelling\n\nThis example uses the frequency domain :func:`lyceanem.models.frequency_domain.calculate_scattering` function to\npredict the scattering parameters for the frequency and environment included in the model. This allows the effects of antenna polarisation,\n"
      ]
    },
    {
      "cell_type": "markdown",
      "metadata": {},
      "source": [
        "## Define Map and Ground Station Location and list of Satellites using skyfield API to load starlink satellites.\n\n"
      ]
    },
    {
      "cell_type": "code",
      "execution_count": null,
      "metadata": {
        "collapsed": false
      },
      "outputs": [],
      "source": [
        "import folium\n\ninterest_center = [51.458729, -2.602153]  # location of Bristol Physics Observatory\n\nm = folium.Map(\n    location=[\n        interest_center[0],\n        interest_center[1],\n    ],\n    zoom_start=6,\n    tiles=\"Stamen Terrain\",\n)\n\nimport numpy as np\nimport copy\n\nfrom skyfield.api import load, EarthSatellite, wgs84\n\nBristolPhysicsObservatory = wgs84.latlon(interest_center[0], interest_center[1], 0)\n\nreceiver = BristolPhysicsObservatory\n\n# Build the time range `t` over which to plot, plus other values.\n\nts = load.timescale()\n\ntime_points = 2 * 60  # track over 10 minutes\n# change over time\nt = ts.utc(2022, 12, 15, 13, 4, range(0, time_points))\ntimebase = t.utc_datetime()"
      ]
    },
    {
      "cell_type": "markdown",
      "metadata": {},
      "source": [
        "## GeoJSON\nThe Folium plugin `TimestampedGeoJson`_ will be used to plot our tracks using timestamped\nGeoJSONs. As a result, we want to convert our data into `GeoJSON format`_. Firstly, we create\nour feature collection which we will append our features to.\n\n\n"
      ]
    },
    {
      "cell_type": "code",
      "execution_count": null,
      "metadata": {
        "collapsed": false
      },
      "outputs": [],
      "source": [
        "geo_features = list()\ngeo_json = {\n    \"type\": \"FeatureCollection\",\n    \"features\": geo_features,\n}"
      ]
    },
    {
      "cell_type": "markdown",
      "metadata": {},
      "source": [
        "## Plotting Tracks of Satellites visible to Physics Observatory\nNow we append our tracks to our feature collection list. We define `colour_iter` which will\nallow us to cycle through different colours when mapping our tracks.\n\n"
      ]
    },
    {
      "cell_type": "code",
      "execution_count": null,
      "metadata": {
        "collapsed": false
      },
      "outputs": [],
      "source": [
        "from collections import defaultdict\nfrom itertools import cycle\n\ncolour_iter = iter(\n    cycle(\n        [\n            \"red\",\n            \"blue\",\n            \"green\",\n            \"purple\",\n            \"orange\",\n            \"darkred\",\n            \"#0909FF\",\n            \"#F70D1A\",\n            \"#FF6700\",\n            \"lightgreen\",\n            \"#0AFFFF\",\n            \"#12AD2B\",\n            \"#E2F516\",\n            \"#FFFF00\",\n            \"#F52887\",\n        ]\n    )\n)\ncolour = defaultdict(lambda: next(colour_iter))\n\ntrail_Size = 7  # trail_Size is the number of timestamps we want track to trail for\nfrom io import BytesIO\nimport base64"
      ]
    },
    {
      "cell_type": "markdown",
      "metadata": {},
      "source": [
        "## Define Starlinks Tracks\nConvinience function to limit the tracks to a set number of the nearest N satellites.\n\n"
      ]
    },
    {
      "cell_type": "code",
      "execution_count": null,
      "metadata": {
        "collapsed": false
      },
      "outputs": [],
      "source": [
        "def starlink_tracks(pointofinterest, timebase, num_satellites=5):\n    starlink_url = \"https://celestrak.com/NORAD/elements/supplemental/starlink.txt\"\n    starlinks = load.tle_file(starlink_url)\n    tracks = []\n    for sat in starlinks:\n        pos = sat.at(timebase)\n        tracks.append(pos)\n        latcheck = np.any(np.isnan(wgs84.subpoint_of(pos).latitude.degrees))\n        loncheck = np.any(np.isnan(wgs84.subpoint_of(pos).longitude.degrees))\n        if latcheck | loncheck:\n            tracks.pop(-1)\n            print(\"caught one\")\n\n    distance_trim = np.full((len(tracks), len(timebase)), np.inf)\n    for track in range(len(tracks)):\n        lat = wgs84.subpoint_of(tracks[track]).latitude\n        lon = wgs84.subpoint_of(tracks[track]).longitude\n        relative_measure = (starlinks[track] - pointofinterest).at(timebase)\n        alt, az, distance1 = relative_measure.altaz()\n        altitude = alt.degrees\n        azimuth = az.degrees\n        relative_range = distance1.km\n        plot_points = []\n        plot_times = []\n        az_trim = []\n        alt_trim = []\n        range_trim = []\n        for point in range(len(lat.degrees)):\n            if altitude[point] >= 0.0:\n                distance_trim[track, point] = relative_range[point]\n\n    def get_indices_of_k_smallest(arr, k):\n        idx = np.argpartition(arr.ravel(), k)\n        return tuple(np.array(np.unravel_index(idx, arr.shape))[:, range(min(k, 0), max(k, 0))])\n\n\n    indexholder = np.zeros((num_satellites, len(timebase)), dtype=int)\n    for point in range(len(timebase)):\n        indexholder[:, point] = get_indices_of_k_smallest(distance_trim[:, point], num_satellites)[0]\n\n    return starlinks, indexholder\n\nstarlinks, indexholder = starlink_tracks(BristolPhysicsObservatory, t, num_satellites=20)\n\ntracks = []\nfor sat in starlinks:\n    pos = sat.at(t)\n    tracks.append(pos)\n    latcheck = np.any(np.isnan(wgs84.subpoint_of(pos).latitude.degrees))\n    loncheck = np.any(np.isnan(wgs84.subpoint_of(pos).longitude.degrees))\n    if latcheck | loncheck:\n        tracks.pop(-1)\n        print(\"caught one\")\n\nfor track in range(len(tracks)):\n    lat = wgs84.subpoint_of(tracks[track]).latitude\n    lon = wgs84.subpoint_of(tracks[track]).longitude\n    relative_measure = (starlinks[track] - BristolPhysicsObservatory).at(t)\n    alt, az, distance = relative_measure.altaz()\n    altitude = alt.degrees\n    azimuth = az.degrees\n    relative_range = distance.km\n    plot_points = []\n    plot_times = []\n    az_trim = []\n    alt_trim = []\n    range_trim = []\n    for point in range(len(lat.degrees)):\n        if altitude[point] >= 0.0 and np.any(np.isin(track, indexholder[:, point])):\n            plot_points.append((lon.degrees[point], lat.degrees[point]))\n            plot_times.append(timebase[point].strftime(\"%Y-%m-%d %H:%M:%S\"))\n            az_trim.append(azimuth[point])\n            alt_trim.append(altitude[point])\n            range_trim.append(relative_range[point])\n\n    for time_index, time in enumerate(plot_times):\n        geo_features.append(\n            {\n                \"type\": \"Feature\",\n                \"properties\": {\n                    \"name\": starlinks[track].name,\n                    \"style\": {\"color\": colour[track], \"weight\": 6},\n                    \"times\": [time] * len(plot_points[: time_index + 1][-trail_Size:]),\n                },\n                \"geometry\": {\n                    \"type\": \"LineString\",\n                    \"coordinates\": plot_points[: time_index + 1][-trail_Size:],\n                },\n            }\n        )\n        geo_features.append(\n            {\n                \"type\": \"Feature\",\n                \"properties\": {\n                    \"icon\": \"marker\",\n                    \"iconstyle\": {\n                        \"iconUrl\": f\"http://icons.iconarchive.com/icons/google/noto-emoji-travel-places/1024/42597-satellite-icon.png\",\n                        \"iconSize\": [24, 24],\n                        \"fillOpacity\": 1,\n                        \"popupAnchor\": [1, -17],\n                    },\n                    \"popup\": \"Satellite: \" + starlinks[track].name + \"<dd>\"\n                                                                     \"Latitude: \"\n                             + \"%s\" % float(\"%.8g\" % plot_points[time_index][0])\n                             + \"<dd>\"\n                               \"Longitude: \"\n                             + \"%s\" % float(\"%.8g\" % plot_points[time_index][1])\n                             + \"<dd>\"  # rounding 8 sigfigs\n                               \"Azimuth: \"\n                             + \"%s\" % float(\"%.8g\" % az_trim[time_index])\n                             + \"\u00b0\"\n                             + \"<dd>\"\n                               \"Altitude: \"\n                             + \"%s\" % float(\"%.8g\" % alt_trim[time_index])\n                             + \"\u00b0\"\n                             + \"<dd>\"\n                               \"Slant Range: \"\n                             + \"%s\" % float(\"%.8g\" % range_trim[time_index])\n                             + \"km\",\n                    \"name\": starlinks[track].name,\n                    \"style\": {\"color\": \"black\", \"weight\": 2},\n                    \"times\": [time],\n                },\n                \"geometry\": {\n                    \"type\": \"MultiPoint\",\n                    \"coordinates\": [plot_points[time_index]],\n                },\n            }\n        )\n\n# plot receiver\nr_track = []\nfor time in range(len(t)):\n    pos = BristolPhysicsObservatory.at(t)\n    r_track.append(pos)\n\nfor track in range(len(r_track)):\n    lat = wgs84.subpoint_of(r_track[track]).latitude\n    lon = wgs84.subpoint_of(r_track[track]).longitude\n    relative_measure = (receiver - BristolPhysicsObservatory).at(t)\n    alt, az, distance = relative_measure.altaz()\n    altitude = alt.degrees\n    azimuth = az.degrees\n    relative_range = distance.km\n    plot_points = []\n    plot_times = []\n    az_trim = []\n    alt_trim = []\n    range_trim = []\n    for point in range(len(lat.degrees)):\n        # if altitude[point] >= 0.0:\n        plot_points.append((lon.degrees[point], lat.degrees[point]))\n        plot_times.append(timebase[point].strftime(\"%Y-%m-%d %H:%M:%S\"))\n        az_trim.append(azimuth[point])\n        alt_trim.append(altitude[point])\n        range_trim.append(relative_range[point])\n\n    for time_index, time in enumerate(plot_times):\n        geo_features.append(\n            {\n                \"type\": \"Feature\",\n                \"properties\": {\n                    \"name\": \"Ground Station at Bristol Physics Observatory\",\n                    \"style\": {\"color\": colour[track], \"weight\": 6},\n                    \"times\": [time] * len(plot_points[: time_index + 1][-trail_Size:]),\n                },\n                \"geometry\": {\n                    \"type\": \"LineString\",\n                    \"coordinates\": plot_points[: time_index + 1][-trail_Size:],\n                },\n            }\n        )\n        geo_features.append(\n            {\n                \"type\": \"Feature\",\n                \"properties\": {\n                    \"icon\": \"marker\",\n                    \"iconstyle\": {\n                        \"iconUrl\": f\"https://www.bristol.ac.uk/media-library/sites/physics/new-images/501_10013623.jpg\",\n                        \"iconSize\": [64, 32],\n                        \"fillOpacity\": 1,\n                        \"popupAnchor\": [1, -17],\n                    },\n                    \"popup\": \"Ground Station at Bristol Physics Observatory\" + \"<dd>\"\n                                                                               \"Latitude: \"\n                             + \"%s\" % float(\"%.8g\" % plot_points[time_index][0])\n                             + \"<dd>\"\n                               \"Longitude: \"\n                             + \"%s\" % float(\"%.8g\" % plot_points[time_index][1])\n                             + \"<dd>\"  # rounding 8 sigfigs\n                               \"Azimuth: \"\n                             + \"%s\" % float(\"%.8g\" % az_trim[time_index])\n                             + \"\u00b0\"\n                             + \"<dd>\"\n                               \"Altitude: \"\n                             + \"%s\" % float(\"%.8g\" % alt_trim[time_index])\n                             + \"\u00b0\"\n                             + \"<dd>\"\n                               \"Slant Range: \"\n                             + \"%s\" % float(\"%.8g\" % range_trim[time_index])\n                             + \"km\",\n                    \"name\": \"Ground Station at Bristol Physics Observatory\",\n                    \"style\": {\"color\": \"black\", \"weight\": 2},\n                    \"times\": [time],\n                },\n                \"geometry\": {\n                    \"type\": \"MultiPoint\",\n                    \"coordinates\": [plot_points[time_index]],\n                },\n            }\n        )\n\nfrom folium.plugins import TimestampedGeoJson, Fullscreen\n\nFullscreen().add_to(m)\n\nimport numpy as np\nimport matplotlib.pyplot as plt\nfrom geopandas import GeoDataFrame\nfrom shapely.geometry import Polygon, MultiPolygon\n\n\ndef collec_to_gdf(collec_poly):\n    \"\"\"Transform a `matplotlib.contour.QuadContourSet` to a GeoDataFrame\"\"\"\n    polygons, colors = [], []\n    for i, polygon in enumerate(collec_poly.collections):\n        mpoly = []\n        for path in polygon.get_paths():\n            try:\n                path.should_simplify = False\n                poly = path.to_polygons()\n                # Each polygon should contain an exterior ring + maybe hole(s):\n                exterior, holes = [], []\n                if len(poly) > 0 and len(poly[0]) > 3:\n                    # The first of the list is the exterior ring :\n                    exterior = poly[0]\n                    # Other(s) are hole(s):\n                    if len(poly) > 1:\n                        holes = [h for h in poly[1:] if len(h) > 3]\n                mpoly.append(Polygon(exterior, holes))\n            except:\n                print('Warning: Geometry error when making polygon #{}'\n                      .format(i))\n        if len(mpoly) > 1:\n            mpoly = MultiPolygon(mpoly)\n            polygons.append(mpoly)\n            colors.append(polygon.get_facecolor().tolist()[0])\n        elif len(mpoly) == 1:\n            polygons.append(mpoly[0])\n            colors.append(polygon.get_facecolor().tolist()[0])\n    return GeoDataFrame(\n        geometry=polygons,\n        data={'RGBA': colors},\n        crs={'init': 'epsg:4326'})"
      ]
    },
    {
      "cell_type": "markdown",
      "metadata": {},
      "source": [
        "## The Results\n\n"
      ]
    },
    {
      "cell_type": "code",
      "execution_count": null,
      "metadata": {
        "collapsed": false
      },
      "outputs": [],
      "source": [
        "TimestampedGeoJson(\n    data=geo_json,\n    transition_time=200,\n    auto_play=True,\n    add_last_point=False,\n    period=\"PT1S\",\n    duration=\"PT0S\",\n).add_to(m)"
      ]
    },
    {
      "cell_type": "code",
      "execution_count": null,
      "metadata": {
        "collapsed": false
      },
      "outputs": [],
      "source": [
        "m"
      ]
    },
    {
      "cell_type": "code",
      "execution_count": null,
      "metadata": {
        "collapsed": false
      },
      "outputs": [],
      "source": [
        "# This is the last cell"
      ]
    }
  ],
  "metadata": {
    "kernelspec": {
      "display_name": "Python 3",
      "language": "python",
      "name": "python3"
    },
    "language_info": {
      "codemirror_mode": {
        "name": "ipython",
        "version": 3
      },
      "file_extension": ".py",
      "mimetype": "text/x-python",
      "name": "python",
      "nbconvert_exporter": "python",
      "pygments_lexer": "ipython3",
      "version": "3.10.8"
    }
  },
  "nbformat": 4,
  "nbformat_minor": 0
}